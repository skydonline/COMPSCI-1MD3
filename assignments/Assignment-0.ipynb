{
 "cells": [
  {
   "cell_type": "markdown",
   "metadata": {},
   "source": [
    "# 1MD3 Assignment 0\n",
    "\n",
    "### Preface\n",
    "**Please read this document very carefully. Follow the instructions exactly. If you have any questions, please post them in the Assignment 0 channel on Teams.**\n",
    "\n",
    "This assignment is worth 1% of your final grade.  **It is due on May 7th, by 11:59pm. Please do not forget to press submit before the due date!**"
   ]
  },
  {
   "cell_type": "markdown",
   "metadata": {
    "deletable": false,
    "nbgrader": {
     "cell_type": "markdown",
     "checksum": "69ce19c5f1c06f183b482ca9f2c79498",
     "grade": true,
     "grade_id": "cell-5a254535a7b22c3d",
     "locked": false,
     "points": 1,
     "schema_version": 3,
     "solution": true,
     "task": false
    },
    "tags": []
   },
   "source": [
    "I understand"
   ]
  },
  {
   "cell_type": "markdown",
   "metadata": {
    "tags": []
   },
   "source": [
    "### Question 1\n",
    "\n",
    "Implement a function named `area`. It takes in two arguments. The first argument represents the length of a rectangle; the second argument represents the width of a rectangle.\n",
    "\n",
    "The function returns the area of a rectangle which has the dimensions of the function’s\n",
    "arguments. You may assume these arguments are always positive numbers, but could be\n",
    "0."
   ]
  },
  {
   "cell_type": "code",
   "execution_count": 1,
   "metadata": {},
   "outputs": [],
   "source": [
    "# Your code here\n",
    "def area(length, width):\n",
    "    return length * width"
   ]
  }
 ],
 "metadata": {
  "kernelspec": {
   "display_name": "Python 3 (ipykernel)",
   "language": "python",
   "name": "python3"
  },
  "language_info": {
   "codemirror_mode": {
    "name": "ipython",
    "version": 3
   },
   "file_extension": ".py",
   "mimetype": "text/x-python",
   "name": "python",
   "nbconvert_exporter": "python",
   "pygments_lexer": "ipython3",
   "version": "3.9.14"
  },
  "vscode": {
   "interpreter": {
    "hash": "853b99181d0ba022bad1ace1542ec9e2b21fc0c2da2392c4130ad8552760e2b5"
   }
  }
 },
 "nbformat": 4,
 "nbformat_minor": 4
}
