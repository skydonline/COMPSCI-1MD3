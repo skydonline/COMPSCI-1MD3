{
 "cells": [
  {
   "cell_type": "markdown",
   "metadata": {},
   "source": [
    "#### Q1\n",
    "\n",
    "In lecture you saw some version of a Caesar cipher which can take in a\n",
    "\"key\" or offset and encodes a string by offsetting each character in that string\n",
    "by the value of key. Implement a classic Caesar cipher encoding where the\n",
    "docstring is given below,\n",
    "\n",
    "```\n",
    "def classic_encode(s:str, key:int)-> str:\n",
    "    \"\"\"\n",
    "    Takes in a string containing only lowercase a-z letters, s, and\n",
    "    encodes it based off an offset value\n",
    "    key, following a classic Caesar cipher. See the examples below for\n",
    "    how to handle key values greater than 26\n",
    "    Examples:\n",
    "    >>> classic_encode(\"abc\",3)\n",
    "    \"def\"\n",
    "    >>> classic_encode(\"xyz\",5)\n",
    "    \"cde\"\n",
    "    >>> classic_encode(\"abc\",26)\n",
    "    \"abc\"\n",
    "    >>> classic_encode(\"abc\",53)\n",
    "    \"bcd\"\n",
    "    \"\"\"\n",
    "```"
   ]
  },
  {
   "cell_type": "code",
   "execution_count": 2,
   "metadata": {
    "tags": []
   },
   "outputs": [
    {
     "name": "stdout",
     "output_type": "stream",
     "text": [
      "def\n",
      "cde\n",
      "abc\n",
      "bcd\n"
     ]
    }
   ],
   "source": [
    "def classic_encode(s:str, key:int) -> str:\n",
    "    i = 0\n",
    "    u = ''\n",
    "    x = ''\n",
    "    for i in range(len(s)):\n",
    "        t = ord(s[i])\n",
    "        r = t + key\n",
    "\n",
    "        #makes sure it is within alphabet range\n",
    "        while r > ord('z'):\n",
    "            r -= 26\n",
    "        \n",
    "        u = chr(r)\n",
    "        x += u\n",
    "    print(x)\n",
    "\n",
    "classic_encode(\"abc\", 3)\n",
    "classic_encode(\"xyz\", 5)\n",
    "classic_encode(\"abc\", 26)\n",
    "classic_encode(\"abc\", 53)"
   ]
  },
  {
   "cell_type": "markdown",
   "metadata": {},
   "source": [
    "#### Q2\n",
    "implement the following function,\n",
    "```\n",
    "def make_angry(s):\n",
    "    \"\"\"\n",
    "    Creates and returns a new string equivalent to s, except all\n",
    "    lowercase letters are now uppercase,and all periods are replaced with exclamation points.\n",
    "    Examples:\n",
    "    >>> make_angry(\"I want some coffee.\")\n",
    "    \"I WANT SOME COFFEE!\"\n",
    "    >>> make_angry(\"I'm not sure. Let's wait...\")\n",
    "    \"I'M NOTE SURE! LET'S WAIT!!!\"\n",
    "    \"\"\"\n",
    " ```\n",
    " Hint: you can solve this with or without certain Python built-in functions."
   ]
  },
  {
   "cell_type": "code",
   "execution_count": 3,
   "metadata": {
    "tags": []
   },
   "outputs": [
    {
     "name": "stdout",
     "output_type": "stream",
     "text": [
      "I WANT SOME COFFEE!\n",
      "I'M NOT SURE! LET'S WAIT!!!\n"
     ]
    }
   ],
   "source": [
    "def make_angry(s):\n",
    "    s = s.replace('.', '!')\n",
    "    print(s.upper())\n",
    "\n",
    "make_angry(\"I want some coffee.\")\n",
    "make_angry(\"I'm not sure. Let's wait...\")"
   ]
  },
  {
   "cell_type": "markdown",
   "metadata": {},
   "source": [
    "#### Q3\n",
    "implement the following function, \n",
    "```\n",
    "def count_sentences(s):\n",
    "    \"\"\"\n",
    "Returns the number of sentences which occur in a string s. Assume a\n",
    "sentence is any substring\n",
    " beginning with a capital letter and completes the first time one of \".\",\n",
    "\"!\", or \"?\" occurs after said capital letter.\n",
    "\n",
    "    Examples:\n",
    "    >>> count_sentences(\"I like dogs. You like cats? I hate snakes!\")\n",
    "    3\n",
    "    >>> count_sentences(\"i type like child!\")\n",
    "    0\n",
    "    >>> count_sentences(\"Hmm, maybe...\")\n",
    "    1\n",
    "    >>> count_sentences(\"this is a weIrd case?\")\n",
    "    1\n",
    "    \"\"\"\n",
    " ```\n",
    " Hint: lookup *boolean flags*"
   ]
  },
  {
   "cell_type": "code",
   "execution_count": 7,
   "metadata": {
    "tags": []
   },
   "outputs": [
    {
     "name": "stdout",
     "output_type": "stream",
     "text": [
      "3\n",
      "0\n",
      "1\n",
      "1\n"
     ]
    }
   ],
   "source": [
    "def count_sentences(s):\n",
    "    count = 0\n",
    "    sentence_start = False\n",
    "    for c in s:\n",
    "        if c.isupper():\n",
    "            sentence_start = True\n",
    "        if (c == \".\" or c == \"!\" or c == \"?\") and sentence_start:\n",
    "            count += 1\n",
    "            sentence_start = False\n",
    "    return count\n",
    "\n",
    "print(count_sentences(\"I like dogs. You like cats? I hate snakes!\"))\n",
    "print(count_sentences(\"i type like child!\"))\n",
    "print(count_sentences(\"Hmm, maybe...\"))\n",
    "print(count_sentences(\"this is a weIrd case?\"))"
   ]
  },
  {
   "cell_type": "markdown",
   "metadata": {},
   "source": [
    "#### Q4\n",
    "Write a function that returns the maximum number of consecutive\n",
    "``special symbols'' in a string. The special symbols are defined in a constant\n",
    "above the function definition.\n",
    "```\n",
    "SPECIAL_SYMBOLS = '!@#$%^&*()_+=[]?/'\n",
    "def symbol_count(s):\n",
    "    \"\"\"(str) -> int\n",
    "    Return the largest number of consecutive \"special symbols\" in the string\n",
    "    s.\n",
    "    >>> symbol_count('c0mput3r')\n",
    "    0\n",
    "    >>> symbol_count('H! [here')\n",
    "    1\n",
    "    >>> symbol_count('h3!!&o world@#')\n",
    "    3\n",
    "    \"\"\"\n",
    " ```"
   ]
  },
  {
   "cell_type": "code",
   "execution_count": 8,
   "metadata": {
    "tags": []
   },
   "outputs": [
    {
     "name": "stdout",
     "output_type": "stream",
     "text": [
      "0\n",
      "1\n",
      "3\n"
     ]
    }
   ],
   "source": [
    "def symbol_count(s):\n",
    "    largest = 0\n",
    "    current = 0\n",
    "    symbols = '!@#$%^&*()_+=[]?/'\n",
    "    for c in s:\n",
    "        if c in symbols:\n",
    "            current += 1\n",
    "        else:\n",
    "            if current > largest:\n",
    "                largest = current\n",
    "                current = 0\n",
    "\n",
    "    print(largest)\n",
    "\n",
    "\n",
    "symbol_count('c0mput3r')\n",
    "symbol_count('H! [here')\n",
    "symbol_count('h3!!&o world@#')"
   ]
  },
  {
   "cell_type": "markdown",
   "metadata": {},
   "source": [
    "#### Q5\n",
    "Write the following Python function:\n",
    "A \"binary string\" is a string composed only of the binary digits 0 and\n",
    "1, for example `1010` or `1010001`. Each character in the string represents a single \"bit.\"\n",
    "\n",
    "This question asks you to write a function that implements a binary\n",
    "operation -- bitwise exclusive or (XOR) -- on two binary strings. For\n",
    "two binary strings, the bitwise XOR is computed by performing XOR on\n",
    "each pair of bits that have the same index. The XOR of two bits is\n",
    "defined as follows:\n",
    "\n",
    "XOR(0, 0) = 0\n",
    "XOR(0, 1) = 1\n",
    "XOR(1, 0) = 1\n",
    "XOR(1, 1) = 0\n",
    "\n",
    "You may assume that the two string arguments will have the same length.\n",
    "```\n",
    "def string_xor(s1, s2):\n",
    "    '''(str, str) -> str\n",
    "    Return the bitwise XOR of two binary strings.\n",
    "    Assumption: len(s1) == len(s2)\n",
    "    >>> string_xor(\"\", \"\")\n",
    "    ''\n",
    "    >>> string_xor(\"0\", \"0\")\n",
    "    '0'\n",
    "    >>> string_xor(\"1\", \"0\")\n",
    "    '1'\n",
    "    >>> string_xor(\"1011\", \"0010\")\n",
    "    '1001'\n",
    "```"
   ]
  },
  {
   "cell_type": "code",
   "execution_count": 10,
   "metadata": {
    "tags": []
   },
   "outputs": [
    {
     "name": "stdout",
     "output_type": "stream",
     "text": [
      "0\n",
      "1\n",
      "1001\n",
      "\n"
     ]
    }
   ],
   "source": [
    "def string_xor(s1, s2):\n",
    "    u = ''\n",
    "    for i in range(len(s1)):\n",
    "        if s1[i] == s2[i]:\n",
    "            u += '0'\n",
    "        else:\n",
    "            u += '1'\n",
    "    print(u)\n",
    "\n",
    "string_xor(\"0\",\"0\")\n",
    "string_xor(\"1\",\"0\")\n",
    "string_xor(\"1011\",\"0010\")\n",
    "string_xor(\"\",\"\")"
   ]
  },
  {
   "cell_type": "markdown",
   "metadata": {},
   "source": [
    "#### Q6\n",
    "Write a function that given two strings A and B checks that for every character a in A there is a character b in B such that \n",
    "ord(a) + ord(b) > 200.\n",
    "Use the following function signature:\n",
    "```\n",
    "def foo(A:str, B:str) -> bool:\n",
    "    \"\"\"Checks for all a in A there is b in B such that ord(a) + ord(b) > 200.\n",
    "    >>> foo(\"abc\", \"fgh\")\n",
    "    True\n",
    "    >>> foo(\"abc\", \"def\")\n",
    "    False\n",
    "    \"\"\"\n",
    "``` \n"
   ]
  },
  {
   "cell_type": "code",
   "execution_count": 14,
   "metadata": {
    "tags": []
   },
   "outputs": [
    {
     "name": "stdout",
     "output_type": "stream",
     "text": [
      "True\n",
      "False\n"
     ]
    }
   ],
   "source": [
    "def foo(A:str, B:str) -> bool:\n",
    "    for i in range(len(A)):\n",
    "        for t in range(len(B)):\n",
    "            if ord(A[i]) + ord(B[t]) > 200:\n",
    "                return True\n",
    "        \n",
    "        return False\n",
    "\n",
    "print(foo(\"abc\", \"fgh\"))\n",
    "print(foo(\"abc\", \"def\"))"
   ]
  },
  {
   "cell_type": "markdown",
   "metadata": {},
   "source": [
    "#### Q7\n",
    "\n",
    "To speed up texting your friends, you are thinking of leaving out all vowels.\n",
    "Write a Python function shorten that takes in an arbitrary string and return\n",
    "your shortened string. Assume that your input will only ever be english letters\n",
    "and removes all uppercase and lowercase vowels.\n",
    "```\n",
    "shorten('The quick brown fox jumps over the lazy dog')\n",
    ">>> 'Th qck brwn fx jmps vr th lzy dg'\n",
    "```"
   ]
  },
  {
   "cell_type": "code",
   "execution_count": 16,
   "metadata": {
    "tags": []
   },
   "outputs": [
    {
     "name": "stdout",
     "output_type": "stream",
     "text": [
      "Th qck brwn fx jmps vr th lzy dg\n"
     ]
    }
   ],
   "source": [
    "def shorten(s):\n",
    "    vowels = 'AaEeIiOoUu'\n",
    "    result = ''\n",
    "    for i in s:\n",
    "        if i not in vowels:\n",
    "            result += i\n",
    "\n",
    "    print(result)\n",
    "\n",
    "\n",
    "shorten('The quick brown fox jumps over the lazy dog')"
   ]
  },
  {
   "cell_type": "markdown",
   "metadata": {},
   "source": [
    "## Challenge\n",
    "\n",
    "Each published book has a unique ISBN (International Standard Book\n",
    "Number), [see Wikipedia for details](https://en.wikipedia.org/wiki/ISBN). The ISBN is an example of an errordetecting code: it consists of nine digits (between 0 and 9) plus a onedigit checksum that serves for detecting if there is an error in the number.\n",
    "\n",
    "A simple way to calculate checksums is by adding the decimal digits, for\n",
    "example the checksum of 53 would be 8. However, the ISBN checksum weights each digit differently. If the nine digits are d1...d9 the checksum d10\n",
    "is calculates as: d10=((1∗d1)+(2∗d2)+...+(9∗d9)) % 11. Thus, the checksum\n",
    "d10 is a number between 0 and 10, with 10 being written as X (therefore, this\n",
    "last digit is an example of a base 11 number).\n",
    "\n",
    "For example, if digits are 020103803, the checksum\n",
    "is (1∗0)+(2∗2)+...+(9∗3) % 11=X (=10).\n",
    "\n",
    "The complete ISBN is then written with dashes after the first digit, after the\n",
    "fourth digit, and before the checksum as ISBN 0-201-03803-X. The reason\n",
    "for digits having different weight is that a single transposition of two digits −\n",
    "a common error − can be detected.\n",
    "\n",
    "For example, in ISBN 0-201-08303-X the digits 3 and 8 are transposed, the\n",
    "checksum is 5 rather than X, so this number is invalid. \n",
    "\n",
    "#### Your Task:\n",
    "\n",
    "##### 1. \n",
    "Write a python function is_ISBN(n) that takes a string of 10 characters\n",
    "and tests whether n is a valid ISBN:\n",
    "```\n",
    ">>> isISBN('020103803X')\n",
    "True\n",
    ">>> isISBN('020108303X')\n",
    "False\n",
    "```\n",
    "#### 2. \n",
    "Write a python function is_ISBN_dash(n) that takes in an arbitrary\n",
    "string and tests whether n is a valid ISBN with dashes, using the\n",
    "function is_ISBN. For example:\n",
    "```\n",
    ">>> isISBNdash('0-201-03803-X')\n",
    "True\n",
    ">>> isISBNdash('0201-03803-X')\n",
    "False\n",
    "```"
   ]
  },
  {
   "cell_type": "code",
   "execution_count": 17,
   "metadata": {
    "tags": []
   },
   "outputs": [
    {
     "name": "stdout",
     "output_type": "stream",
     "text": [
      "True\n",
      "False\n"
     ]
    }
   ],
   "source": [
    "def isISBN(n):\n",
    "    s = n.replace('X','')\n",
    "    t = 0\n",
    "    l = len(s) + 1\n",
    "    for i in range(len(s)):\n",
    "        t += (int(s[i]) * (i+1))\n",
    "    \n",
    "    if t % l == (l-1):\n",
    "        return True\n",
    "    else:\n",
    "        return False\n",
    "\n",
    "print(isISBN('020103803X'))\n",
    "print(isISBN('020108303X'))"
   ]
  },
  {
   "cell_type": "code",
   "execution_count": 18,
   "metadata": {
    "tags": []
   },
   "outputs": [
    {
     "name": "stdout",
     "output_type": "stream",
     "text": [
      "True\n",
      "False\n"
     ]
    }
   ],
   "source": [
    "def isISBNdash(n):\n",
    "    s = n.replace('-','')\n",
    "    l = len(s) + 1\n",
    "    s = s.replace('X','')\n",
    "    t = 0\n",
    "    for i in range(len(s)):\n",
    "        t += (int(s[i]) * (i+1))\n",
    "    \n",
    "    if t % l == (l-1) and n[1] == '-' and n[5] == '-' and n[11] == '-':\n",
    "            return True\n",
    "    else:\n",
    "        return False\n",
    "\n",
    "print(isISBNdash('0-201-03803-X'))\n",
    "print(isISBNdash('0201-03803-X'))"
   ]
  },
  {
   "cell_type": "code",
   "execution_count": null,
   "metadata": {},
   "outputs": [],
   "source": []
  }
 ],
 "metadata": {
  "kernelspec": {
   "display_name": "Python 3 (ipykernel)",
   "language": "python",
   "name": "python3"
  },
  "language_info": {
   "codemirror_mode": {
    "name": "ipython",
    "version": 3
   },
   "file_extension": ".py",
   "mimetype": "text/x-python",
   "name": "python",
   "nbconvert_exporter": "python",
   "pygments_lexer": "ipython3",
   "version": "3.9.16"
  },
  "vscode": {
   "interpreter": {
    "hash": "853b99181d0ba022bad1ace1542ec9e2b21fc0c2da2392c4130ad8552760e2b5"
   }
  }
 },
 "nbformat": 4,
 "nbformat_minor": 4
}
