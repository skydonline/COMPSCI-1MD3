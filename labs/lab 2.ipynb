{
 "cells": [
  {
   "cell_type": "markdown",
   "metadata": {},
   "source": [
    "## Exercise 2\n",
    "\n",
    "#### Q1\n",
    "Consider the expression: \\\n",
    "`a or not b or (not a and b) and (b or a)` \\\n",
    "now consider every possible combination of a and b . Evaluate the above expression for each\n",
    "combination of values:"
   ]
  },
  {
   "cell_type": "code",
   "execution_count": 4,
   "metadata": {},
   "outputs": [
    {
     "name": "stdout",
     "output_type": "stream",
     "text": [
      "True\n",
      "True\n",
      "True\n",
      "True\n"
     ]
    }
   ],
   "source": [
    "# Creating a function for the expression\n",
    "def expression(a,b):\n",
    "    return(a or not b or (not a and b) and (b or a))\n",
    "\n",
    "# if a = True and b = True: True\n",
    "print(expression(True,True))\n",
    "\n",
    "# if a = True and b = False: True\n",
    "print(expression(True,False))\n",
    "\n",
    "\n",
    "# if a = False and b = False: True\n",
    "print(expression(False,False))\n",
    "\n",
    "# if a = False and b = True: True\n",
    "print(expression(False,True))"
   ]
  },
  {
   "cell_type": "markdown",
   "metadata": {},
   "source": [
    "#### Q2\n",
    "Consider the function `my_and(a,b)` , which returns True if and only if `a` and `b` are True.\n",
    "Note this is essentially recreating the already built in \"and\" operator. Implement the function\n",
    "`my_and(a,b)` , but only use the two operators: `not` , `or`\n",
    "\n",
    "Hint: consider the expression\n",
    "`not(a and b)` , reason this out; is there an equivalent way to write it without the use of and (De Morgans Law)?"
   ]
  },
  {
   "cell_type": "code",
   "execution_count": 5,
   "metadata": {
    "tags": []
   },
   "outputs": [
    {
     "name": "stdout",
     "output_type": "stream",
     "text": [
      "True\n",
      "False\n",
      "False\n",
      "False\n"
     ]
    }
   ],
   "source": [
    "def my_and(a,b):\n",
    "    return not(not a or not b)\n",
    "\n",
    "print(my_and(True, True))\n",
    "print(my_and(True, False))\n",
    "print(my_and(False, True))\n",
    "print(my_and(False, False))"
   ]
  },
  {
   "cell_type": "markdown",
   "metadata": {},
   "source": [
    "#### Q3\n",
    "\n",
    "Assume the following two functions have be run in the Python\n",
    "shell/interpreter:\n",
    "```\n",
    "def math1(x,y,z):\n",
    "    z = a + 1\n",
    "    c = x + 1\n",
    "    y = c + 1\n",
    "    return x + y + z\n",
    "\n",
    "def math2(a,b,c):\n",
    "    a = a + c\n",
    "    b = math1(a,b,c)\n",
    "    c = x + 1\n",
    "    return a + b + c\n",
    "```\n",
    "For each of the following examples write what will be outputted to the screen\n",
    "in place of each \"???\", if anything at all. If at any point you think Python will\n",
    "error, state why?"
   ]
  },
  {
   "cell_type": "markdown",
   "metadata": {},
   "source": [
    "##### a)\n",
    "```\n",
    ">>> math1(1,1,1)\n",
    "???\n",
    "```"
   ]
  },
  {
   "cell_type": "markdown",
   "metadata": {},
   "source": [
    "##### ANSWER: \n",
    "```\n",
    "a and c are not defined\n",
    "```"
   ]
  },
  {
   "cell_type": "markdown",
   "metadata": {},
   "source": [
    "##### b)\n",
    "```\n",
    ">>> a = 2\n",
    ">>> c = 4\n",
    ">>> b = math1(a,a,a)\n",
    ">>> a\n",
    "???\n",
    ">>> b\n",
    "???\n",
    ">>> c\n",
    "???\n",
    ">>> z\n",
    "???\n",
    "```"
   ]
  },
  {
   "cell_type": "markdown",
   "metadata": {},
   "source": [
    "##### ANSWER:\n",
    "```\n",
    "a = 2\n",
    "b = 9\n",
    "c = 4\n",
    "z is not defined\n",
    "```"
   ]
  },
  {
   "cell_type": "markdown",
   "metadata": {},
   "source": [
    "##### c)\n",
    "```\n",
    ">>> a = 1\n",
    ">>> x = 2\n",
    ">>> math2(x,a,x)\n",
    "???\n",
    ">>> x\n",
    "???\n",
    ">>> a\n",
    "???\n",
    "```"
   ]
  },
  {
   "cell_type": "markdown",
   "metadata": {},
   "source": [
    "##### ANSWER:\n",
    "```\n",
    "math2(x,a,x) = 19\n",
    "x = 2\n",
    "a = 1\n",
    "```"
   ]
  },
  {
   "cell_type": "markdown",
   "metadata": {},
   "source": [
    "##### d)\n",
    "```\n",
    ">>> a = 1\n",
    ">>> x = 1\n",
    ">>> math3(x,a,x)\n",
    "???\n",
    ">>> x\n",
    "???\n",
    "```"
   ]
  },
  {
   "cell_type": "markdown",
   "metadata": {},
   "source": [
    "##### ANSWER:\n",
    "```\n",
    "math3(x,a,x) = 16\n",
    "x = 1\n",
    "```"
   ]
  },
  {
   "cell_type": "markdown",
   "metadata": {},
   "source": [
    "#### Q4\n",
    "Write a function `get_circle_info(radius)` which computes the area and\n",
    "circumference of a circle.\n",
    "For example:\n",
    "```\n",
    ">>> radius = 5\n",
    ">>> get_circle_info(radius)\n",
    "The area of the circle is: 78.54\n",
    "The circumference of the circle is: 31.42\n",
    ">>>\n",
    "```"
   ]
  },
  {
   "cell_type": "code",
   "execution_count": 7,
   "metadata": {
    "tags": []
   },
   "outputs": [
    {
     "name": "stdout",
     "output_type": "stream",
     "text": [
      "The area of the circle is: 78.54\n",
      "The circumference of the circle is: 31.42\n"
     ]
    }
   ],
   "source": [
    "import math\n",
    "def get_circle_info(radius):\n",
    "    area = round(((math.pi)*radius**2),2)\n",
    "    print(\"The area of the circle is:\", area)\n",
    "    \n",
    "    circumference = round((2*(math.pi)*radius),2)\n",
    "    print(\"The circumference of the circle is:\", circumference)\n",
    "\n",
    "get_circle_info(5)"
   ]
  },
  {
   "cell_type": "markdown",
   "metadata": {},
   "source": [
    "#### Q5\n",
    "In the sample code below, how does Python know which\n",
    "namespace/instance of num to use/print?\n",
    "Sample Code:\n",
    "```\n",
    "num = 1\n",
    "\n",
    "def my_function():\n",
    "    num = 5\n",
    "    print(num, 'inside my_function')\n",
    "\n",
    "print(num, 'in global/main')\n",
    "\n",
    "my_function()\n",
    "\n",
    "```\n",
    "Output: \\\n",
    "1 in global/main \\\n",
    "5 inside my_function()"
   ]
  },
  {
   "cell_type": "markdown",
   "metadata": {
    "tags": []
   },
   "source": [
    "##### ANSWER:\n",
    "```\n",
    "num = 5 is only defined in the function \"my_function\", so it is a local variable\n",
    "num = 1 is a global variable, so unless it is being used in a function where num is updated, it will always be 1\n",
    "```"
   ]
  },
  {
   "cell_type": "markdown",
   "metadata": {},
   "source": [
    "#### Q6\n",
    "\n",
    "Write a function called `in_range` that takes an integer parameter and\n",
    "returns `true` if the value of the parameter is an *integer* from 1 to 3 inclusive.\n",
    "The only operators you are allowed to use in your code is\n",
    "arithmetic/comparison/Boolean ie. <=, ==, +, -, // etc.You are not allowed to use \"if\" statements or\n",
    "other concepts not covered in class.\n",
    "Examples of use:\n",
    "```\n",
    ">>> in_range(1)\n",
    "True\n",
    ">>> in_range(2)\n",
    "True\n",
    ">>> in_range(3)\n",
    "True\n",
    ">>> in_range(0)\n",
    "False\n",
    ">>> in_range(3.4)\n",
    "False\n",
    ">>> in_range(2.5)\n",
    "False\n",
    ">>> in_range(1.0)\n",
    "True\n",
    "```"
   ]
  },
  {
   "cell_type": "code",
   "execution_count": 10,
   "metadata": {
    "tags": []
   },
   "outputs": [
    {
     "name": "stdout",
     "output_type": "stream",
     "text": [
      "True\n",
      "True\n",
      "True\n",
      "False\n",
      "False\n",
      "False\n",
      "True\n"
     ]
    }
   ],
   "source": [
    "def in_range(x):\n",
    "    return ((x <= 3 and x >= 1) and (int(x) == x))\n",
    "\n",
    "print(in_range(1))\n",
    "print(in_range(2))\n",
    "print(in_range(3))\n",
    "print(in_range(0))\n",
    "print(in_range(3.4))\n",
    "print(in_range(2.5))\n",
    "print(in_range(1.0))"
   ]
  },
  {
   "cell_type": "markdown",
   "metadata": {},
   "source": [
    "#### Q7\n",
    "\n",
    "What is the following code print out?\n",
    "```\n",
    "def f1(x):\n",
    "    return x == f4(x**2)\n",
    "\n",
    "def f2(y):\n",
    "    return y**2 + 100\n",
    "\n",
    "def f3(x):\n",
    "    return x**1 + 25\n",
    "\n",
    "def f4(z):\n",
    "    y = z**2\n",
    "    return f2(z) + f3(y) + f5(y)\n",
    "\n",
    "def f5(q):\n",
    "    return 55\n",
    "\n",
    "x = 20\n",
    "q = 30\n",
    "y = 40\n",
    "final = (y and f1(12)) or (f3(q) == 55)\n",
    "print(final)\n",
    "```"
   ]
  },
  {
   "cell_type": "markdown",
   "metadata": {
    "tags": []
   },
   "source": [
    "##### ANSWER:\n",
    "```\n",
    "True\n",
    "```"
   ]
  },
  {
   "cell_type": "markdown",
   "metadata": {},
   "source": [
    "#### Q8\n",
    "\n",
    "If a dependent child is a person under 18 years of age who does not earn\n",
    "$10,000 or more a year, which expression would define a dependent child?\\\n",
    "A. age < 18 and salary < 10000\\\n",
    "B. age < 18 or salary < 10000\\\n",
    "C. age <= 18 and salary <= 10000\\\n",
    "D. age <= 18 or salary <= 10000\\\n",
    "This question is mean't to help you translate an English condition to code. It\n",
    "was taken from a past exam"
   ]
  },
  {
   "cell_type": "markdown",
   "metadata": {
    "tags": []
   },
   "source": [
    "##### ANSWER:\n",
    "```\n",
    "Expression A.\n",
    "It says that the person must be under 18, not inclusive.\n",
    "It says that the person must earn under $10,000, not inclusive.\n",
    "It states that both conditions must be satisfied, since it uses \"and\".\n",
    "```"
   ]
  },
  {
   "cell_type": "markdown",
   "metadata": {},
   "source": [
    "#### Q9\n",
    "\n",
    "Write a function that takes as input three lengths and returns true only\n",
    "when there is a right-triangle with these sides. Do not use an if-statement.\n",
    "Use the following function header. Note: \"\"\" is a multi-line comment\n",
    "```\n",
    "def exists_triangle(x, y, z):\n",
    "\n",
    "    ## something like this:\n",
    "    \"\"\"(float, float, float) -> bool\n",
    "    Returns true only when there is a right-triangle with sides x, y, z.\n",
    "    >>> exists_triangle(3,4,5)\n",
    "    True\n",
    "    >>> exists_triangle(5,3,4)\n",
    "    True\n",
    "    >>> exists_triangle(1,0,10)\n",
    "    False\n",
    "    \"\"\"\n",
    "```\n",
    "Follow up: Consider that no hypotenuse among the sides was specified.\n",
    "However, the greatest length among the inputs can be assumed to be the\n",
    "hypotenuse. Can you write the above function (again without if-statements)\n",
    "that first determines the hypotenuse among x, y, and z?"
   ]
  },
  {
   "cell_type": "code",
   "execution_count": 13,
   "metadata": {
    "tags": []
   },
   "outputs": [
    {
     "name": "stdout",
     "output_type": "stream",
     "text": [
      "True\n",
      "True\n",
      "False\n"
     ]
    }
   ],
   "source": [
    "def exists_triangle(x, y, z):\n",
    "    return (z**2 == (x**2+y**2)) or (y**2 == (x**2+z**2)) or (x**2 == (z**2+y**2))\n",
    "\n",
    "print(exists_triangle(3,4,5))\n",
    "print(exists_triangle(5,3,4))\n",
    "print(exists_triangle(1,0,10))"
   ]
  },
  {
   "cell_type": "markdown",
   "metadata": {},
   "source": [
    "#### Q10\n",
    "Write a function that takes the coefficients from ax^2 + bx + c and returns the largest solution to the quadratic equation. You may assume that\n",
    "input will always have real solutions. Use the following header\n",
    "```\n",
    "def solver(a, b, c):\n",
    " \"\"\"(float, float, float) -> float\n",
    " Returns the largest x such that ax^2+bx+c=0\n",
    " >>> solver(2, -8, 6)\n",
    " 3\n",
    " \"\"\"\n",
    "\n",
    "``` "
   ]
  },
  {
   "cell_type": "code",
   "execution_count": 15,
   "metadata": {},
   "outputs": [
    {
     "name": "stdout",
     "output_type": "stream",
     "text": [
      "3.0\n"
     ]
    }
   ],
   "source": [
    "def solver(a, b, c):\n",
    "    x1 = (-b + (b**2 - (4*a*c))**(0.5))/(2*a)\n",
    "    x2 = (-b - (b**2 - (4*a*c))**(0.5))/(2*a)\n",
    "    if x1 >= x2:\n",
    "        return(x1)\n",
    "    else:\n",
    "        return(x2)\n",
    "\n",
    "print(solver(2,-8,6))"
   ]
  }
 ],
 "metadata": {
  "kernelspec": {
   "display_name": "Python 3 (ipykernel)",
   "language": "python",
   "name": "python3"
  },
  "language_info": {
   "codemirror_mode": {
    "name": "ipython",
    "version": 3
   },
   "file_extension": ".py",
   "mimetype": "text/x-python",
   "name": "python",
   "nbconvert_exporter": "python",
   "pygments_lexer": "ipython3",
   "version": "3.9.16"
  },
  "vscode": {
   "interpreter": {
    "hash": "853b99181d0ba022bad1ace1542ec9e2b21fc0c2da2392c4130ad8552760e2b5"
   }
  }
 },
 "nbformat": 4,
 "nbformat_minor": 4
}
