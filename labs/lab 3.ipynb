{
 "cells": [
  {
   "cell_type": "markdown",
   "metadata": {},
   "source": [
    "#### Q1\n",
    "`s = '1234567' `\n",
    "What is the value of each of the following:\n",
    "```\n",
    "a) s[len(s)]\n",
    "b) s[len(s) - 2]\n",
    "c) s[-2]\n",
    "d) s[-5:-2]\n",
    "e) s[-2:-5]\n",
    "f) s[-2:-2]\n",
    "g) s[:-3]\n",
    "h) s[0:7]\n",
    "i) s[0:6]\n",
    "j) s[5:]\n",
    "k) s[7:]\n",
    "```"
   ]
  },
  {
   "cell_type": "code",
   "execution_count": 5,
   "metadata": {
    "tags": []
   },
   "outputs": [
    {
     "name": "stdout",
     "output_type": "stream",
     "text": [
      "6\n",
      "6\n",
      "345\n",
      "\n",
      "\n",
      "1234\n",
      "1234567\n",
      "123456\n",
      "67\n",
      "\n"
     ]
    }
   ],
   "source": [
    "s = '1234567'\n",
    "#a) not in scope\n",
    "# since s[7] is out of bound\n",
    "'''print(s[len(s)])'''\n",
    "\n",
    "#b) 6\n",
    "# since s[5] is 6\n",
    "print(s[len(s)-2])\n",
    "\n",
    "#c) 6\n",
    "# since 2 from the end is 6\n",
    "print(s[-2])\n",
    "\n",
    "#d) 345\n",
    "# since 5 from end is 3, and not inclusive of 2 from the end\n",
    "print(s[-5:-2])\n",
    "\n",
    "#e) nothing\n",
    "# since cannot go to a place earlier than start\n",
    "print(s[-2:-5])\n",
    "\n",
    "#f) nothing \n",
    "# since it doesn't include 2 from the end\n",
    "print(s[-2:-2])\n",
    "\n",
    "#g) 1234\n",
    "# since it is everything before 3 from the end\n",
    "print(s[:-3])\n",
    "\n",
    "#h) 1234567\n",
    "# since the whole list is 0-6 anyways\n",
    "print(s[0:7])\n",
    "\n",
    "#i) 123456\n",
    "# print numbers 0-5\n",
    "print(s[0:6])\n",
    "\n",
    "#j) 67\n",
    "# since it prints from index number 5 onwards\n",
    "print(s[5:])\n",
    "\n",
    "#k) nothing \n",
    "# since s doesn't have 7 indexed elements\n",
    "print(s[7:])"
   ]
  },
  {
   "cell_type": "markdown",
   "metadata": {},
   "source": [
    "#### Q2\n",
    "Python has many built in string methods. For a list of these methods\n",
    "checkout: https://www.w3schools.com/python/python_ref_string.asp\n",
    "Choose three of these methods and \"wrap\" each of these in their own function\n",
    "using the \"function design recipe\". An example of what is meant by wrapping\n",
    "a method in a function is given below for the string method \"count\":\n",
    "```\n",
    "def my_count(s:str, sub:str)-> int:\n",
    "    \"\"\"\n",
    "    Returns how many times the string sub occurs in the string s.\n",
    "    Examples:\n",
    "    >>> my_count(\"abba\",\"a\")\n",
    "    2\n",
    "    >>> my_count(\"abba\",\"ab\")\n",
    "    1\n",
    "    \"\"\"\n",
    "    return s.count(sub)\n",
    "\n",
    "```\n"
   ]
  },
  {
   "cell_type": "code",
   "execution_count": 5,
   "metadata": {
    "tags": []
   },
   "outputs": [
    {
     "name": "stdout",
     "output_type": "stream",
     "text": [
      "2\n",
      "1\n",
      "False\n",
      "9\n",
      "Good afternoon\n"
     ]
    }
   ],
   "source": [
    "def my_count(s:str, sub:str) -> int:\n",
    "    return s.count(sub)\n",
    "\n",
    "print(my_count(\"abba\",\"a\")) #should return 2\n",
    "print(my_count(\"abba\",\"ab\")) #should return 1\n",
    "\n",
    "\n",
    "def my_digit(string: str):\n",
    "    return string.isdigit()\n",
    "\n",
    "print(my_digit(\"ss12\")) #should return False\n",
    "\n",
    "\n",
    "def my_find(s:str, sub:str) -> int:\n",
    "    return s.find(sub)\n",
    "\n",
    "print(my_find(\"Hello class\", \"s\")) #should return 9\n",
    "\n",
    "\n",
    "def my_replace(mainstring:str, str1:str, str2:str) -> str:\n",
    "    return mainstring.replace(str1,str2)\n",
    "\n",
    "print(my_replace(\"Good morning\", \"morning\", \"afternoon\")) #should return \"Good afternoon\""
   ]
  },
  {
   "cell_type": "markdown",
   "metadata": {},
   "source": [
    "#### Q3\n",
    "Consider the following function:\n",
    "```\n",
    "def f(x):\n",
    "    if x > 10:\n",
    "        if x > 100:\n",
    "            print(\"A\")\n",
    "        elif x > 200:\n",
    "            print(\"B\")\n",
    "        else:\n",
    "            print(\"C\")\n",
    "    elif x < 50:\n",
    "        if x < 40:\n",
    "            print(\"D\")\n",
    "        else:\n",
    "            print(\"E\")\n",
    "        if x < 30:\n",
    "            print(\"F\")\n",
    "        else:\n",
    "            print(\"G\")\n",
    "    if x >= 10:\n",
    "        print(\"H\")\n",
    "    elif x >= 10:\n",
    "        print(\"I\")\n",
    "```\n",
    "a) What will be outputted to the screen in place of each \"???\", if anything at\n",
    "all. If at any point you think Python will error, state why.\n",
    "```\n",
    ">>> f(11)\n",
    "???\n",
    ">>> f(300)\n",
    "???\n",
    ">>> f(5)\n",
    "???\n",
    "```\n",
    "b) For each letter \"A\" through \"I\", give a value of x which will result in f(x)\n",
    "printing out that letter (it doesn't need to just print out that letter). If you\n",
    "think a specific letter can never be printed, explain why.\n",
    "\n",
    "c) Repeat parts a) and b), but change the print statements in the if statement,\n",
    "to return statements. "
   ]
  },
  {
   "cell_type": "markdown",
   "metadata": {},
   "source": [
    "#### ANSWER:\n",
    "```\n",
    "a)\n",
    "f(11)=CH\n",
    "f(300)=AH\n",
    "f(5)=DF\n",
    "\n",
    "\n",
    "b)\n",
    "A = x>100\n",
    "B = never, since if it is greater than 100 it will evaluate to \"A\"\n",
    "C = 10<x<100\n",
    "D = x<40\n",
    "E = never, since it will always print \"D\" first, because in order for it to get into that loop it x<=10, then x<50 will always be true\n",
    "F = x<=10\n",
    "G = never, since it will always print \"F\" first, because in order for it to get into that loop it x<=10, then x<30 will always be true\n",
    "H = x>=10\n",
    "I = never since it is the same as \"H\", which is always evaluated first\n",
    "\n",
    "\n",
    "c)\n",
    "f1(11)=C\n",
    "f1(300)=A\n",
    "f1(5)=D\n",
    "A = x>100\n",
    "B = never\n",
    "C = 10<x<100\n",
    "D = x<=10\n",
    "E = never\n",
    "F = never\n",
    "G = never\n",
    "H = never\n",
    "I = never\n",
    "```"
   ]
  },
  {
   "cell_type": "markdown",
   "metadata": {},
   "source": [
    "#### Q4\n",
    "```\n",
    ">>> \"mississauga\"[::3]\n",
    "...\n",
    ">>> \"mississauga\"[:-2:2]\n",
    "...\n",
    ">>> \"scarborough\"[2::4]\n",
    "...\n",
    "```"
   ]
  },
  {
   "cell_type": "markdown",
   "metadata": {},
   "source": [
    "#### ANSWER:\n",
    "```\n",
    "\"mississauga\"[::3] = \"mssg\"\n",
    "\"mississauga\"[:-2:2] = \"msisu\"\n",
    "\"scarborough\"[2::4] = \"arh\"\n",
    "```"
   ]
  },
  {
   "cell_type": "markdown",
   "metadata": {},
   "source": [
    "#### Q5\n",
    "Complete the docstring with an appropriate number of doctests and write\n",
    "the code for the following function:\n",
    "```\n",
    "def can_drink_beer(age: int, country_name: str, contains_alcohol: bool) ->\n",
    "bool:\n",
    "    \"\"\"\n",
    "    age: a non negative integer, person's age\n",
    "    country_name: a string, country name\n",
    "    contains_alcohol: True if beer contains alcohol, False if not\n",
    "    return: True if contains_alcohol is False, regardless of age and country,\n",
    "    If contains_alcohol is True:\n",
    "    False if country_name is 'USA' and age is less than 25\n",
    "    True if country_name is 'USA' and age is greater or equal to 25\n",
    "    True if country name is 'Beerland' regardless of age\n",
    "    False if age is less than 16 and country anything else\n",
    "    Otherwise True\n",
    "    \"\"\"\n",
    "```\n",
    " "
   ]
  },
  {
   "cell_type": "code",
   "execution_count": 9,
   "metadata": {},
   "outputs": [],
   "source": [
    "def can_drink_beer(age: int, country_name: str, contains_alcohol: bool) -> bool:\n",
    "    if age < 0:\n",
    "        return False\n",
    "    \n",
    "    if contains_alcohol == False:\n",
    "        return True\n",
    "    else:\n",
    "        if country_name == 'USA':\n",
    "            if age < 25:\n",
    "                return False\n",
    "            else:\n",
    "                return True\n",
    "            \n",
    "        elif country_name == 'Beerland':\n",
    "            return True\n",
    "        elif country_name != 'USA' and age < 16:\n",
    "            return False\n",
    "        else:\n",
    "            return True"
   ]
  },
  {
   "cell_type": "markdown",
   "metadata": {},
   "source": [
    "#### Q6\n",
    "Note that a string can be indexed immediately after being sliced\n",
    "```\n",
    ">>> x = '0123456789'\n",
    ">>> x = [3:9][2]\n",
    "5\n",
    "```\n",
    "Write a single computation that finds the 3rd even number in x."
   ]
  },
  {
   "cell_type": "code",
   "execution_count": 12,
   "metadata": {
    "tags": []
   },
   "outputs": [
    {
     "name": "stdout",
     "output_type": "stream",
     "text": [
      "4\n"
     ]
    }
   ],
   "source": [
    "x='0123456789'\n",
    "print(x[::2][2])"
   ]
  },
  {
   "cell_type": "markdown",
   "metadata": {},
   "source": [
    "#### Q7\n",
    "Note that multiple slices of a string can be made simultaneously.\n",
    "```\n",
    ">>> x = '0123456789'\n",
    ">>> x[::3][::-1]\n",
    "'9630'\n",
    ">>> x[2:8][::3]\n",
    "'25'\n",
    "```\n",
    "Now suppose we have\n",
    "```\n",
    ">>> x[a:b:c][x:y:z]\n",
    "```\n",
    "Does Python slice a:b:c or x:y:z first? Does order matter?\n"
   ]
  },
  {
   "cell_type": "markdown",
   "metadata": {},
   "source": [
    "#### ANSWER:\n",
    "```\n",
    "Python slices a:b:c first, and order does matter. It modifies the list according to the first slice, then modifies the list according to the second slice\n",
    "```\n"
   ]
  },
  {
   "cell_type": "markdown",
   "metadata": {},
   "source": [
    "### Challenge Question\n",
    "In English, the past tense of regular verbs are made by adding 'd' or 'ed' to\n",
    "the base form of the verb. Create a function past_tense that returns the past\n",
    "tense of a word given by the following rules:\n",
    "\n",
    " - If the word ends with 'e', add 'd' to the word,\n",
    " - If the word ends with 'y' and the letter before 'y' is not a vowel, then\n",
    "replace 'y' with 'i' and add 'ed',\n",
    " - Otherwise, add 'ed' to the end of the word.\n",
    "\n",
    "Vowels are characters 'a', 'e', 'i', 'o', 'u'.\n",
    "\n",
    "For instance:\n",
    "\n",
    " - past_tense(\"listen\") returns \"listened\"\n",
    " - past_tense(\"try\") returns \"tried\"\n",
    " - past_tense(\"obey\") returns \"obeyed\"\n",
    " - past_tense(\"type\") returns \"typed\"\n",
    "\n",
    "You may assume that the input word is non-empty, will only be characters,\n",
    "and all letters in the input word are lowercase letters.\n",
    "Some test cases:\n",
    "```\n",
    "past_tense('bake')=='baked'\n",
    "past_tense('cry')=='cried'\n",
    "past_tense('enjoy')=='enjoyed'\n",
    "past_tense('ask')=='asked'\n",
    "```\n"
   ]
  },
  {
   "cell_type": "code",
   "execution_count": 10,
   "metadata": {},
   "outputs": [
    {
     "name": "stdout",
     "output_type": "stream",
     "text": [
      "listened\n",
      "tried\n",
      "obeyed\n",
      "typed\n",
      "baked\n",
      "cried\n",
      "enjoyed\n",
      "asked\n"
     ]
    }
   ],
   "source": [
    "def past_tense(word):\n",
    "    vowels = 'aeiou'\n",
    "    if word[-1] == 'y' and word[-2] not in vowels:\n",
    "        print(word[:-1] + 'ied')\n",
    "    elif word[-1] == 'e':\n",
    "        print(word + 'd')\n",
    "    else:\n",
    "        print(word + 'ed')\n",
    "        \n",
    "past_tense('listen')\n",
    "past_tense('try')\n",
    "past_tense('obey')\n",
    "past_tense('type')\n",
    "past_tense('bake')\n",
    "past_tense('cry')\n",
    "past_tense('enjoy')\n",
    "past_tense('ask')"
   ]
  }
 ],
 "metadata": {
  "kernelspec": {
   "display_name": "Python 3 (ipykernel)",
   "language": "python",
   "name": "python3"
  },
  "language_info": {
   "codemirror_mode": {
    "name": "ipython",
    "version": 3
   },
   "file_extension": ".py",
   "mimetype": "text/x-python",
   "name": "python",
   "nbconvert_exporter": "python",
   "pygments_lexer": "ipython3",
   "version": "3.9.16"
  }
 },
 "nbformat": 4,
 "nbformat_minor": 4
}
