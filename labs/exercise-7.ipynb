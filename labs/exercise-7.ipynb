{
 "cells": [
  {
   "cell_type": "markdown",
   "id": "f2f84b4f-72c2-4044-b857-7c0b35ce74e9",
   "metadata": {},
   "source": [
    "# Lab Exercises 7"
   ]
  },
  {
   "cell_type": "markdown",
   "id": "06f57dcd-a3e1-4be8-a2c4-39cd34827f34",
   "metadata": {
    "tags": []
   },
   "source": [
    "## Question 1"
   ]
  },
  {
   "cell_type": "markdown",
   "id": "8a2e0d72-b8a6-4663-88cf-2ad463164a5c",
   "metadata": {},
   "source": [
    "Pretend you are a professor trying to determine the final grades for an assignment. Assume you have A1_grades.csv file where each line contains data for a single student and the file is of the form:\n",
    "\n",
    "`utorid, first-name, last-name, student-number, grade`\n",
    "\n",
    "In order to upload the grades, each line of the file needs to be of the form:\n",
    "\n",
    "`utorid, grade`"
   ]
  },
  {
   "cell_type": "markdown",
   "id": "6a0fffb6-00a2-4507-a3ba-153b62c55578",
   "metadata": {},
   "source": [
    "**a.)** Write a function which reads the data from A1_grades.csv and writes a new file A1_grades_new.csv, where each line is of the form:\n",
    "\n",
    "`utorid, grade`"
   ]
  },
  {
   "cell_type": "code",
   "execution_count": 5,
   "id": "a318f79c-9786-4a6a-a7a1-1c8066f0c487",
   "metadata": {
    "tags": []
   },
   "outputs": [],
   "source": [
    "import csv\n",
    "\n",
    "def reformat_original():\n",
    "    to_write = []\n",
    "    with open(\"A1_grades.csv\", \"r\") as file:\n",
    "        reader = csv.DictReader(file)\n",
    "        for row in reader:\n",
    "            to_write.append(row)\n",
    "    \n",
    "    with open(\"A1_grades_new.csv\", \"w\") as file:\n",
    "        writer = csv.DictWriter(file, fieldnames=[\"utorid\", \"grade\"])\n",
    "        writer.writeheader()\n",
    "\n",
    "        for row in to_write:\n",
    "            writer.writerow(\n",
    "                {\"utorid\": row[\"utorid\"],\n",
    "                \"grade\": row[\"grade\"]})\n"
   ]
  },
  {
   "cell_type": "markdown",
   "id": "3aabb14a-efc4-4c7e-aa33-e301c5e810f7",
   "metadata": {},
   "source": [
    "**b.)** Your students have complained about the difficulty of the assignment, and you have given them the opportunity to resubmit their assignment with a 20% penalty. Now you have a second file A1_resubmit_grades.csv. This file is of the same format as A1_grades.csv. Modify your function in part a) to create a new file A1_resubmit_grades_new.csv from the file A1_resubmit_grades.csv. Each line of this file should be of the form:\n",
    "\n",
    "`utorid, grade`\n",
    "\n",
    "Note: The 20% penalty has not yet been applied, so it is completely feasible to for a student to have a 100% grade in both the files A1_resubmit_grades.csv and A1_resubmit_grades_new.csv.\n"
   ]
  },
  {
   "cell_type": "code",
   "execution_count": 4,
   "id": "e053814e-c63e-4243-b635-744f0094da0b",
   "metadata": {
    "tags": []
   },
   "outputs": [],
   "source": [
    "def reformat_resubmissions():\n",
    "    to_write = []\n",
    "    with open(\"A1_resubmit_grades.csv\", \"r\") as file:\n",
    "        reader = csv.DictReader(file)\n",
    "        for row in reader:\n",
    "            to_write.append(row)\n",
    "\n",
    "    with open(\"A1_resubmit_grades_new.csv\", \"w\") as file:\n",
    "        writer = csv.DictWriter(file, fieldnames=[\"utorid\", \"grade\"])\n",
    "        writer.writeheader()\n",
    "\n",
    "        for row in to_write:\n",
    "            writer.writerow(\n",
    "                {\"utorid\": row[\"utorid\"],\n",
    "                \"grade\": row[\"grade\"]})"
   ]
  },
  {
   "cell_type": "markdown",
   "id": "3077564d-232c-460f-a361-47b4713644dd",
   "metadata": {},
   "source": [
    "**c.)** Write a function which reads from a file of the form:\n",
    "\n",
    "`utorid, grade`\n",
    "\n",
    "and creates and returns a dictionary such that the keys of this dictionary are the students utorids, and each value is the grade corresponding to the utorid, i.e. the type of the dictionary returned should be: `Dict[str, int]`."
   ]
  },
  {
   "cell_type": "code",
   "execution_count": 3,
   "id": "63687657-36f0-4534-b35b-92b847ea0dfd",
   "metadata": {
    "tags": []
   },
   "outputs": [],
   "source": [
    "def read_grades(filename: str) -> dict[str, int]:\n",
    "    grades = {}\n",
    "\n",
    "    with open(filename, \"r\") as file:\n",
    "        reader = csv.DictReader(file)\n",
    "        for row in reader:\n",
    "            grades[row[\"utorid\"]] = int(row[\"grade\"])\n",
    "            \n",
    "    return grades"
   ]
  },
  {
   "cell_type": "markdown",
   "id": "fad79a6c-b15e-4c4a-a6c9-1d54317d6934",
   "metadata": {},
   "source": [
    "**d.)** Write a function which reads from the files A1_resubmit_grades_new.csv, and A1_grades_new.csv, and writes to a new file A1_grades_final.csv, such that A1_grades_final.csv contains the final grade information and each line is of the form:\n",
    "\n",
    "`utorid, grade`\n",
    "\n",
    "There should be a single grade for each student. A student should not appear twice in the file. You will need to account for the following cases:\n",
    "\n",
    "* A student had an original submission but not a resubmission \n",
    "* A student had a resubmission, but not an original submission\n",
    "* A student had an original submission, and a resubmission, but did better on the original submission (after the 20% penalty for the resubmit is applied)\n",
    "* A student had an original submission, and a resubmission, but did better on the resubmission (after the 20% penalty for the resubmit is applied)\n",
    "\n",
    "*Hint:* your function should be using the function you wrote in part c)."
   ]
  },
  {
   "cell_type": "code",
   "execution_count": 2,
   "id": "afc9fa51-92fe-4be5-a181-399e049a9b5e",
   "metadata": {
    "tags": []
   },
   "outputs": [],
   "source": [
    "def make_final_grades():\n",
    "    original = read_grades(\"A1_grades_new.csv\")\n",
    "    resubmit = read_grades(\"A1_resubmit_grades_new.csv\")\n",
    "    final = {}\n",
    "    \n",
    "    for utorid in original:\n",
    "        if utorid in resubmit:\n",
    "            final[utorid] = max(original[utorid], resubmit[utorid]-20)\n",
    "        else:\n",
    "            final[utorid] = original[utorid]\n",
    "\n",
    "    for utorid in resubmit:\n",
    "        if utorid not in original:\n",
    "            final[utorid] = resubmit[utorid]-20\n",
    "            \n",
    "    with open(\"A1_grades_final.csv\", \"w\") as file:\n",
    "        writer = csv.DictWriter(file, fieldnames=[\"utorid\", \"grade\"])\n",
    "        writer.writeheader()\n",
    "        \n",
    "        for utorid in final:\n",
    "            writer.writerow({\"utorid\": utorid, \"grade\": final[utorid]})"
   ]
  },
  {
   "cell_type": "markdown",
   "id": "f3d3c023-ac3d-47f8-a7f0-1945f89b64c8",
   "metadata": {},
   "source": [
    "## Question 2"
   ]
  },
  {
   "cell_type": "markdown",
   "id": "38a2070f-7437-4341-ad81-ed1c8abaf0b9",
   "metadata": {},
   "source": [
    "Pullback of two dictionaries is called a dictionary containing pairs (key, value) such that both original dictionaries take same value on key.\n",
    "\n",
    "\n",
    "Write the code for the following function:"
   ]
  },
  {
   "cell_type": "code",
   "execution_count": 6,
   "id": "97cae3ab-62b7-4982-a583-1da12e2f97c8",
   "metadata": {
    "tags": []
   },
   "outputs": [
    {
     "data": {
      "text/plain": [
       "True"
      ]
     },
     "execution_count": 6,
     "metadata": {},
     "output_type": "execute_result"
    }
   ],
   "source": [
    "from typing import Dict\n",
    "\n",
    "\"\"\"\n",
    ":param d1: Dict[str, str]\n",
    ":param d2: Dict[str, str]\n",
    ":return: Pullback, a Dict[str, str]\n",
    ">>> pb = pullback({'a': 'yes', 'b': 'no', 'c': 'i dont know'}, {'d':'hello', 'b': 'no', 'c': 'bye'})\n",
    ">>> pb == {'b': 'no'}\n",
    "True\n",
    "\"\"\"\n",
    "def pullback(d1: Dict[str, str], d2: Dict[str, str]) -> Dict[str, str]:\n",
    "    result = {}\n",
    "    for key in d1:\n",
    "        if key in d2:\n",
    "            if d1[key] == d2[key]:\n",
    "                result[key] = d1[key]\n",
    "\n",
    "    return result\n",
    "\n",
    "pb = pullback({'a': 'yes', 'b': 'no', 'c': 'i dont know'}, {'d':\n",
    "'hello', 'b': 'no', 'c': 'bye'})\n",
    "pb == {'b': 'no'}"
   ]
  },
  {
   "cell_type": "markdown",
   "id": "47445032-25f5-4f87-ba85-04fc546875ea",
   "metadata": {},
   "source": [
    "## Question 3"
   ]
  },
  {
   "cell_type": "markdown",
   "id": "265cbfc1-5333-4b40-a19c-caa2b43db992",
   "metadata": {},
   "source": [
    "Write a Python function roman(n) that takes in an integer n between 1 and 999. This function must return the corresponding roman numeral. Note: you must make use of either tuples or a dictionary to solve this problem.\n",
    "\n",
    "```\n",
    ">>> roman(5)\n",
    "'V'\n",
    ">>> roman(39)\n",
    "'XXXIX'\n",
    ">>> roman(41)\n",
    "'XLI'\n",
    ">>> roman(94)\n",
    "'XCIV'\n",
    ">>> roman(309)\n",
    "'CCCIX'\n",
    ">>> roman(763)\n",
    "'DCCLXIII'\n",
    ">>> roman(987)\n",
    "'CMLXXXVII'\n",
    "```"
   ]
  },
  {
   "cell_type": "code",
   "execution_count": 7,
   "id": "980bd18b-decb-4d49-bf1d-730a5f15af1f",
   "metadata": {
    "tags": []
   },
   "outputs": [
    {
     "name": "stdout",
     "output_type": "stream",
     "text": [
      "V\n",
      "XXXIX\n",
      "XLI\n",
      "XCIV\n",
      "CCCIX\n",
      "DCCLXIII\n",
      "CMLXXXVII\n"
     ]
    }
   ],
   "source": [
    "def roman(n):\n",
    "    characters = {1: \"I\",\n",
    "                4: \"IV\",\n",
    "                5: \"V\",\n",
    "                9: \"IX\",\n",
    "                10: \"X\",\n",
    "                40: \"XL\",\n",
    "                50: \"L\",\n",
    "                90: \"XC\",\n",
    "                100: \"C\",\n",
    "                400: \"CD\",\n",
    "                500: \"D\",\n",
    "                900: \"CM\"}\n",
    "\n",
    "    result = \"\"\n",
    "    for key in sorted(characters.keys(), reverse=True):\n",
    "        while n >= key:\n",
    "            n -= key\n",
    "            result += characters[key]\n",
    "\n",
    "    return result\n",
    "\n",
    "print(roman(5))\n",
    "print(roman(39))\n",
    "print(roman(41))\n",
    "print(roman(94))\n",
    "print(roman(309))\n",
    "print(roman(763))\n",
    "print(roman(987))"
   ]
  },
  {
   "cell_type": "markdown",
   "id": "ffd05a0f-8972-41ed-b8a2-430d0a8eabb8",
   "metadata": {},
   "source": [
    "## Question 4"
   ]
  },
  {
   "cell_type": "markdown",
   "id": "204224b0-a006-4f40-acd0-ee345f03e5db",
   "metadata": {},
   "source": [
    "Suppose we have collected a dictionary with colour-keys and list of items as values.\n",
    "\n",
    "```\n",
    "H = {\n",
    "    red\": [\n",
    "        \"apple\", \n",
    "        \"firetrucks\", \n",
    "        \"car\"\n",
    "    ], \n",
    "    \"yellow\": [\n",
    "        \"banana\", \n",
    "        \"car\"\n",
    "    ],\n",
    "    \"blue\":[\n",
    "        \"sky\", \n",
    "        \"car\"\n",
    "    ]\n",
    "}\n",
    "```\n",
    "\n",
    "As you can see \"cars\" can be of any colour. Write a function to return all such items that can be every colour:"
   ]
  },
  {
   "cell_type": "code",
   "execution_count": 8,
   "id": "9772483f-66eb-4ae6-86f7-512064eccb7e",
   "metadata": {
    "tags": []
   },
   "outputs": [
    {
     "name": "stdout",
     "output_type": "stream",
     "text": [
      "['sweater', 'car']\n",
      "[]\n"
     ]
    }
   ],
   "source": [
    "from typing import Dict, List\n",
    "\n",
    "\"\"\"\n",
    ">>> H = {\n",
    ">>> \"red\":[\"apple\", \"sweater\", \"firetrucks\", \"car\"],\n",
    ">>> \"yellow\":[\"sweater\", \"banana\", \"car\"],\n",
    ">>> \"blue\":[\"sky\", \"car\", \"sweater\"]\n",
    ">>> }\n",
    ">>> all_colours( H )\n",
    "[\"car\", \"sweater\"]\n",
    ">>> H = {\"magenta\":[\"syntax\"], \"cyan\":[\"constants\"]}\n",
    ">>> all_colours( H )\n",
    "[]\n",
    "\"\"\"\n",
    "def all_colours(H:Dict[str, List[str]]) -> List[str]:\n",
    "    items = H[list(H.keys())[0]]\n",
    "    new_items = []\n",
    "    for color in H.keys():\n",
    "        for item in items:\n",
    "            if item in H[color]:\n",
    "                new_items.append(item)\n",
    "\n",
    "        items = new_items\n",
    "        new_items = []\n",
    "\n",
    "    return items\n",
    "\n",
    "H = {\n",
    "\"red\":[\"apple\", \"sweater\", \"firetrucks\", \"car\"],\n",
    "\"yellow\":[\"sweater\", \"banana\", \"car\"],\n",
    "\"blue\":[\"sky\", \"car\", \"sweater\"]\n",
    "}\n",
    "\n",
    "print(all_colours(H))\n",
    "\n",
    "H = {\"magenta\":[\"syntax\"], \"cyan\":[\"constants\"]}\n",
    "print(all_colours(H))"
   ]
  },
  {
   "cell_type": "code",
   "execution_count": null,
   "id": "c6e5079e-f848-47c1-9509-bdc686bfabe3",
   "metadata": {},
   "outputs": [],
   "source": []
  }
 ],
 "metadata": {
  "kernelspec": {
   "display_name": "Python 3 (ipykernel)",
   "language": "python",
   "name": "python3"
  },
  "language_info": {
   "codemirror_mode": {
    "name": "ipython",
    "version": 3
   },
   "file_extension": ".py",
   "mimetype": "text/x-python",
   "name": "python",
   "nbconvert_exporter": "python",
   "pygments_lexer": "ipython3",
   "version": "3.9.16"
  }
 },
 "nbformat": 4,
 "nbformat_minor": 5
}
