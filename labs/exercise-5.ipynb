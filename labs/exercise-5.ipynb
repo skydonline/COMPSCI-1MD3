{
 "cells": [
  {
   "cell_type": "markdown",
   "id": "de61c3cb-8e74-408c-a7db-481e39ac27dd",
   "metadata": {
    "tags": []
   },
   "source": [
    "# Lab Exercises 5"
   ]
  },
  {
   "cell_type": "markdown",
   "id": "9843e7c9-9a0e-4f1f-baff-9faed50e7eda",
   "metadata": {},
   "source": [
    "## Exercise 1"
   ]
  },
  {
   "cell_type": "markdown",
   "id": "d3cf9740-9cfa-483e-a20e-da82d2d92714",
   "metadata": {},
   "source": [
    " Re-implement the function below using a while-loop instead of a for-loop"
   ]
  },
  {
   "cell_type": "code",
   "execution_count": 13,
   "id": "d5c88246-8f81-40f0-91fe-74e7dd4359a4",
   "metadata": {
    "tags": []
   },
   "outputs": [],
   "source": [
    "def count_vowels(s): \n",
    "    num = 0\n",
    "    for char in s:\n",
    "        if char in \"aeiouAEIOU\": \n",
    "            num += 1\n",
    "        return num"
   ]
  },
  {
   "cell_type": "code",
   "execution_count": 1,
   "id": "5e1818bc-5999-4730-90b7-c224b4100db2",
   "metadata": {
    "tags": []
   },
   "outputs": [
    {
     "name": "stdout",
     "output_type": "stream",
     "text": [
      "2\n",
      "2\n",
      "1\n",
      "2\n",
      "5\n"
     ]
    }
   ],
   "source": [
    "def count_vowels_while(s):\n",
    "    num = 0\n",
    "    c = 0\n",
    "    while c < len(s):\n",
    "        if s[c] in \"aeiouAEIOU\":\n",
    "            num += 1\n",
    "        c += 1\n",
    "    return num\n",
    "\n",
    "print(count_vowels_while('hello'))\n",
    "print(count_vowels_while('HELLO'))\n",
    "print(count_vowels_while('test'))\n",
    "print(count_vowels_while('testing'))\n",
    "print(count_vowels_while('aeiou'))"
   ]
  },
  {
   "cell_type": "markdown",
   "id": "d1a08506-4f8e-45e4-8ff2-d98a2ed3d8b3",
   "metadata": {},
   "source": [
    "## Exercise 2"
   ]
  },
  {
   "cell_type": "markdown",
   "id": "2508aa53-1dc8-4f8c-ac4c-d7614b54f101",
   "metadata": {},
   "source": [
    "Consider the list `L = [1,2,3,4,5,6,7,8,9,10]`. using slicing notation, i.e. `L[1:3], L[-1], L[2:8:2]`, etc., write an expression which would yield:"
   ]
  },
  {
   "cell_type": "code",
   "execution_count": 2,
   "id": "1609a71b-3198-4f5f-ae29-4c2a97f99362",
   "metadata": {
    "tags": []
   },
   "outputs": [],
   "source": [
    "L = [1,2,3,4,5,6,7,8,9,10]"
   ]
  },
  {
   "cell_type": "markdown",
   "id": "b91ff87c-95e7-4db1-92f9-5f0ff9d7a1e1",
   "metadata": {},
   "source": [
    "a) `[4,5,6]`"
   ]
  },
  {
   "cell_type": "code",
   "execution_count": 3,
   "id": "79d57f83-fc3a-4f77-ac22-2a4080b4fb7e",
   "metadata": {
    "tags": []
   },
   "outputs": [
    {
     "data": {
      "text/plain": [
       "[4, 5, 6]"
      ]
     },
     "execution_count": 3,
     "metadata": {},
     "output_type": "execute_result"
    }
   ],
   "source": [
    "L[3:6]"
   ]
  },
  {
   "cell_type": "markdown",
   "id": "05dc05ca-66a9-49a0-81d9-db489a8ed49d",
   "metadata": {},
   "source": [
    "b) `[1,2,3,4,5,6,7,8,9,10]`"
   ]
  },
  {
   "cell_type": "code",
   "execution_count": 4,
   "id": "979347ce-136d-4087-9160-9a089427ded6",
   "metadata": {
    "tags": []
   },
   "outputs": [
    {
     "data": {
      "text/plain": [
       "[1, 2, 3, 4, 5, 6, 7, 8, 9, 10]"
      ]
     },
     "execution_count": 4,
     "metadata": {},
     "output_type": "execute_result"
    }
   ],
   "source": [
    "L"
   ]
  },
  {
   "cell_type": "markdown",
   "id": "fdd91a9f-7ae6-4e2b-af28-893aef2259fd",
   "metadata": {
    "tags": []
   },
   "source": [
    "c) `[1,3,5,7,9]`"
   ]
  },
  {
   "cell_type": "code",
   "execution_count": 5,
   "id": "e239579d-5b4a-42db-8b58-c2ac0b8587d0",
   "metadata": {
    "tags": []
   },
   "outputs": [
    {
     "data": {
      "text/plain": [
       "[1, 3, 5, 7, 9]"
      ]
     },
     "execution_count": 5,
     "metadata": {},
     "output_type": "execute_result"
    }
   ],
   "source": [
    "L[::2]"
   ]
  },
  {
   "cell_type": "markdown",
   "id": "5db0b48d-2741-4812-ac7c-b4582162c8f1",
   "metadata": {},
   "source": [
    "d) `[6,5,4]`"
   ]
  },
  {
   "cell_type": "code",
   "execution_count": 6,
   "id": "36606ec6-70e7-4556-95b9-6d1467b8a391",
   "metadata": {
    "tags": []
   },
   "outputs": [
    {
     "data": {
      "text/plain": [
       "[6, 5, 4]"
      ]
     },
     "execution_count": 6,
     "metadata": {},
     "output_type": "execute_result"
    }
   ],
   "source": [
    "[L[5],L[4],L[3]]"
   ]
  },
  {
   "cell_type": "markdown",
   "id": "5d83ca67-ff69-4109-845d-153be727c832",
   "metadata": {},
   "source": [
    "e) `[10,1]`"
   ]
  },
  {
   "cell_type": "code",
   "execution_count": 7,
   "id": "d3b05dd3-71c2-4b55-9d42-81cf48304e75",
   "metadata": {
    "tags": []
   },
   "outputs": [
    {
     "data": {
      "text/plain": [
       "[10, 1]"
      ]
     },
     "execution_count": 7,
     "metadata": {},
     "output_type": "execute_result"
    }
   ],
   "source": [
    "[L[9],L[0]]"
   ]
  },
  {
   "cell_type": "markdown",
   "id": "5040ebe7-75ac-49c7-99a7-83d63888ebb5",
   "metadata": {},
   "source": [
    "## Exercise 3"
   ]
  },
  {
   "cell_type": "markdown",
   "id": "66fd3454-467b-4524-8e88-e0e5fa22945c",
   "metadata": {},
   "source": [
    "Consider the code below:"
   ]
  },
  {
   "cell_type": "markdown",
   "id": "54814682-c733-43db-9f26-70c2e409958c",
   "metadata": {},
   "source": [
    "```\n",
    "for i in ______:\n",
    "    print(i)\n",
    "```"
   ]
  },
  {
   "cell_type": "markdown",
   "id": "8d3908fe-b2d6-4506-8db0-12fa30496c0d",
   "metadata": {},
   "source": [
    "What is written to the shell when the code is run with the following inserted into the \"blank\" part of the code:"
   ]
  },
  {
   "cell_type": "markdown",
   "id": "cadc72dc-dd6e-404c-b6f1-5517d1cc3af8",
   "metadata": {},
   "source": [
    "a) `range(5)`"
   ]
  },
  {
   "cell_type": "markdown",
   "id": "96948ad5-297b-4a29-864a-ab6654521d14",
   "metadata": {},
   "source": [
    "#### ANSWER:\n",
    "```\n",
    "0\n",
    "1\n",
    "2\n",
    "3\n",
    "4\n",
    "```"
   ]
  },
  {
   "cell_type": "markdown",
   "id": "4c39a0da-9d8e-4f4d-a416-073793db72e2",
   "metadata": {},
   "source": [
    "b) `range(4,8)`"
   ]
  },
  {
   "cell_type": "markdown",
   "id": "3f6d953b-0b35-490a-93dc-a8edec08961a",
   "metadata": {},
   "source": [
    "#### ANSWER:\n",
    "```\n",
    "4\n",
    "5\n",
    "6\n",
    "7\n",
    "```"
   ]
  },
  {
   "cell_type": "markdown",
   "id": "67597c2e-b5cd-4639-8b18-51a148b89092",
   "metadata": {},
   "source": [
    "c) `range(8,8)`"
   ]
  },
  {
   "cell_type": "markdown",
   "id": "ef1bca87-58d0-40e1-839d-215e06fa0e29",
   "metadata": {},
   "source": [
    "#### ANSWER:\n",
    "```\n",
    "nothing\n",
    "```"
   ]
  },
  {
   "cell_type": "markdown",
   "id": "61223709-8e6e-475b-9f94-871dbe371207",
   "metadata": {},
   "source": [
    "d) `range(-1)`"
   ]
  },
  {
   "cell_type": "markdown",
   "id": "67d0bb37-b7cf-4c04-8d09-7368ec3288e1",
   "metadata": {},
   "source": [
    "#### ANSWER:\n",
    "```\n",
    "nothing\n",
    "```"
   ]
  },
  {
   "cell_type": "markdown",
   "id": "30ece9a7-60e9-4fa9-bcc8-06d7d3da9596",
   "metadata": {},
   "source": [
    "e) `range(5,10,2)`"
   ]
  },
  {
   "cell_type": "markdown",
   "id": "64db8246-dff4-4480-b38e-3d12947cfdea",
   "metadata": {},
   "source": [
    "#### ANSWER:\n",
    "```\n",
    "5\n",
    "7\n",
    "9\n",
    "```"
   ]
  },
  {
   "cell_type": "markdown",
   "id": "2327d996-b56e-4e04-b0df-a56d6a0801a6",
   "metadata": {},
   "source": [
    "f) `range(5,11,2)`"
   ]
  },
  {
   "cell_type": "markdown",
   "id": "1c69c786-f45b-4db9-9ee6-c777affb81ea",
   "metadata": {},
   "source": [
    "#### ANSWER:\n",
    "```\n",
    "5\n",
    "7\n",
    "9\n",
    "```"
   ]
  },
  {
   "cell_type": "markdown",
   "id": "d8673732-496a-4dc8-b51d-b8c398c47b77",
   "metadata": {},
   "source": [
    "g) `range(4,9,-1)`"
   ]
  },
  {
   "cell_type": "markdown",
   "id": "955b3a15-0668-4766-9c9f-729787363c3d",
   "metadata": {},
   "source": [
    "#### ANSWER:\n",
    "```\n",
    "nothing\n",
    "```"
   ]
  },
  {
   "cell_type": "markdown",
   "id": "a4adafe8-5c6d-4f06-bd39-5659a79a4ec6",
   "metadata": {},
   "source": [
    "h) `range(4,9,-2)`"
   ]
  },
  {
   "cell_type": "markdown",
   "id": "877c72ef-a6cc-402e-91ca-1c2a6a055875",
   "metadata": {},
   "source": [
    "#### ANSWER:\n",
    "```\n",
    "nothing\n",
    "```"
   ]
  },
  {
   "cell_type": "markdown",
   "id": "1d55a911-10d7-4edb-8f22-f29b3be2c863",
   "metadata": {},
   "source": [
    "i) `range(9,4,-1)`"
   ]
  },
  {
   "cell_type": "markdown",
   "id": "97e4dd23-a1cc-4b99-bacc-65cc73d8f500",
   "metadata": {},
   "source": [
    "#### ANSWER:\n",
    "```\n",
    "9\n",
    "8\n",
    "7\n",
    "6\n",
    "5\n",
    "```"
   ]
  },
  {
   "cell_type": "markdown",
   "id": "d0f88665-18e9-4805-8cfe-32deb10b730a",
   "metadata": {},
   "source": [
    "j) `range(9,4,-2)`"
   ]
  },
  {
   "cell_type": "markdown",
   "id": "72a9a223-4fb6-450e-a5ee-15e1b5442195",
   "metadata": {},
   "source": [
    "#### ANSWER:\n",
    "```\n",
    "9\n",
    "7\n",
    "5\n",
    "```"
   ]
  },
  {
   "cell_type": "markdown",
   "id": "87376878-d7aa-423a-8a64-c6f36f0b6930",
   "metadata": {},
   "source": [
    "## Exercise 4"
   ]
  },
  {
   "cell_type": "markdown",
   "id": "38b4b6b8-c966-4fc1-900d-0cd52c52bf23",
   "metadata": {},
   "source": [
    "Implement the function below in two different ways, the first using a for-loop, the second using a while-loop."
   ]
  },
  {
   "cell_type": "markdown",
   "id": "f28e9fdd-f1e4-4c68-8ae7-3032b160c227",
   "metadata": {},
   "source": [
    "```\n",
    "def get_front_list(L:List[int], target:int)->List[int]:\n",
    "    \"\"\"\n",
    "    Takes in a list of positive non-zero integers L, \n",
    "    where the sum of allelements of L is greater than or equal to target. \n",
    "    Returns a sub-list of the first n  elements of L, such that these \n",
    "    elements sum to something greater than or equal to target, but the first \n",
    "    n-1 elements would sum to something lessthan target. \n",
    "    \"\"\"\n",
    "```\n",
    "\n",
    "Examples: \n",
    "\n",
    "```\n",
    ">>> get_front_list([3,7,5,2,10,4,7,1],16)\n",
    "[3,7,5,2]\n",
    ">>> get_front_list([3,7,5,2,10,4,7,1],31)\n",
    "[3,7,5,2,10,4]\n",
    ">>> get_front_list([100,1,2,3,4],10)\n",
    "[100]\n",
    "```"
   ]
  },
  {
   "cell_type": "code",
   "execution_count": 11,
   "id": "cf74be82-ad6f-48e6-a077-5abb3ab9ea5d",
   "metadata": {
    "tags": []
   },
   "outputs": [
    {
     "name": "stdout",
     "output_type": "stream",
     "text": [
      "[3, 7, 5, 2]\n",
      "[3, 7, 5, 2, 10, 4]\n",
      "[100]\n"
     ]
    }
   ],
   "source": [
    "def get_front_list_for(L, target):\n",
    "    l = []\n",
    "    for i in range(len(L)):\n",
    "        if sum(l) < target:\n",
    "            t = L[i]\n",
    "            t = [t]\n",
    "            l.extend(t)\n",
    "        else:\n",
    "            return l\n",
    "\n",
    "print(get_front_list_for([3,7,5,2,10,4,7,1],16))\n",
    "print(get_front_list_for([3,7,5,2,10,4,7,1],31))\n",
    "print(get_front_list_for([100,1,2,3,4],10))"
   ]
  },
  {
   "cell_type": "code",
   "execution_count": 12,
   "id": "53921abd-453c-49f3-8600-b4413face2e2",
   "metadata": {
    "tags": []
   },
   "outputs": [
    {
     "name": "stdout",
     "output_type": "stream",
     "text": [
      "[3, 7, 5, 2]\n",
      "[3, 7, 5, 2, 10, 4]\n",
      "[100]\n"
     ]
    }
   ],
   "source": [
    "def get_front_list_while(L, target):\n",
    "    i = 0\n",
    "    l = []\n",
    "    while i in range(len(L)):\n",
    "        if sum(l) < target:\n",
    "            t = L[i]\n",
    "            t = [t]\n",
    "            l.extend(t)\n",
    "        i += 1\n",
    "    \n",
    "    return(l)\n",
    "\n",
    "print(get_front_list_while([3,7,5,2,10,4,7,1],16))\n",
    "print(get_front_list_while([3,7,5,2,10,4,7,1],31))\n",
    "print(get_front_list_while([100,1,2,3,4],10))"
   ]
  },
  {
   "cell_type": "markdown",
   "id": "829e994b-c736-4a5a-81e8-aa01e7515f4f",
   "metadata": {},
   "source": [
    "## Question 5"
   ]
  },
  {
   "cell_type": "markdown",
   "id": "961f087c-3ce6-42f2-9995-fabf6cfa11dd",
   "metadata": {},
   "source": [
    "In this exercise we will make use of the random module. Please create a new Python file called cards.py and add the following line:"
   ]
  },
  {
   "cell_type": "code",
   "execution_count": 76,
   "id": "51bf426c-5f87-440a-84a5-96a28cf3ff77",
   "metadata": {
    "tags": []
   },
   "outputs": [],
   "source": [
    "import random"
   ]
  },
  {
   "cell_type": "markdown",
   "id": "b7f0ab56-aa82-4b90-a899-c4ed1ec95a1d",
   "metadata": {},
   "source": [
    "In addition the functions that we have used before, the random module offersa function called choice that takes a list as argument, and returns a randomly selected element from the list. For instance, the statement"
   ]
  },
  {
   "cell_type": "markdown",
   "id": "282f3351-e666-4777-888a-4e4f4f25ac88",
   "metadata": {},
   "source": [
    "```print(random.choice(['heads','tails']))```"
   ]
  },
  {
   "cell_type": "markdown",
   "id": "b76108e2-435f-4c3f-8f92-b502e8a1f087",
   "metadata": {},
   "source": [
    "prints at random heads or tails. Please note, once we select an element at random, it may be necessary to remove this element from the list so it does not get picked again. In one of the following exercises you will need to perform this repeatedly. Therefore, on every iteration, we would need to check if the list still has elements on it, so we can proceed to the next iteration if the list is not empty."
   ]
  },
  {
   "cell_type": "markdown",
   "id": "bcf2ece5-05a4-4b3b-b980-7728d4ece4c6",
   "metadata": {},
   "source": [
    "In the following set of coding exercises, we will generate a deck of cards, shuffle it, and produce a hand of n cards.  Complete the code for the following functions:"
   ]
  },
  {
   "cell_type": "code",
   "execution_count": 17,
   "id": "fabb8ece-3c3f-4b5a-88a7-429d1bffd8d0",
   "metadata": {
    "tags": []
   },
   "outputs": [
    {
     "name": "stdout",
     "output_type": "stream",
     "text": [
      "['2', '3', '4', '5', '6', '7', '8', '9', '10', 'jack', 'queen', 'king', 'ace']\n"
     ]
    }
   ],
   "source": [
    "'''\n",
    "Returns the list of ranks in order\n",
    ":return: The list['2','3','4','5','6','7','8','9','10','jack','queen','king','ace'] \n",
    "'''\n",
    "def get_ranks():\n",
    "    return['2','3','4','5','6','7','8','9','10','jack','queen','king','ace'] \n",
    "\n",
    "print(get_ranks())"
   ]
  },
  {
   "cell_type": "code",
   "execution_count": 14,
   "id": "20aac6c8-5be8-4d68-9d8a-6c00f2210b0e",
   "metadata": {
    "tags": []
   },
   "outputs": [
    {
     "name": "stdout",
     "output_type": "stream",
     "text": [
      "['spades', 'hearts', 'clubs', 'diamonds']\n"
     ]
    }
   ],
   "source": [
    "'''\n",
    "Returns a list of suits  \n",
    ":return: The list ['spades','hearts','clubs','diamonds']   \n",
    "'''\n",
    "def get_suits():\n",
    "    return ['spades','hearts','clubs','diamonds']\n",
    "\n",
    "print(get_suits())"
   ]
  },
  {
   "cell_type": "code",
   "execution_count": 18,
   "id": "76884d9a-2274-40f6-8e62-d7f68ea5d616",
   "metadata": {
    "tags": []
   },
   "outputs": [
    {
     "name": "stdout",
     "output_type": "stream",
     "text": [
      "['2 of spades', '2 of hearts', '2 of clubs', '2 of diamonds', '3 of spades', '3 of hearts', '3 of clubs', '3 of diamonds', '4 of spades', '4 of hearts', '4 of clubs', '4 of diamonds', '5 of spades', '5 of hearts', '5 of clubs', '5 of diamonds', '6 of spades', '6 of hearts', '6 of clubs', '6 of diamonds', '7 of spades', '7 of hearts', '7 of clubs', '7 of diamonds', '8 of spades', '8 of hearts', '8 of clubs', '8 of diamonds', '9 of spades', '9 of hearts', '9 of clubs', '9 of diamonds', '10 of spades', '10 of hearts', '10 of clubs', '10 of diamonds', 'jack of spades', 'jack of hearts', 'jack of clubs', 'jack of diamonds', 'queen of spades', 'queen of hearts', 'queen of clubs', 'queen of diamonds', 'king of spades', 'king of hearts', 'king of clubs', 'king of diamonds', 'ace of spades', 'ace of hearts', 'ace of clubs', 'ace of diamonds']\n"
     ]
    }
   ],
   "source": [
    "'''\n",
    "Return a sorted deck of cards. Each card is represented by a string as follows: \n",
    "\"queen of hearts\". The cards are ordered by rank and then suit within rank. \n",
    ":return: The sorted deck of cards, as a list of strings \n",
    "EXAMPLE: \n",
    "make_sorted_deck() == [\n",
    "    '2 of spades', \n",
    "    '2 of hearts', \n",
    "    '2 of clubs',\n",
    "    ..., \n",
    "    'ace of clubs', \n",
    "    'ace of diamonds'\n",
    "] \n",
    "'''\n",
    "def make_sorted_deck():\n",
    "    deck = []\n",
    "    for rank in get_ranks():\n",
    "        for suit in get_suits():\n",
    "            deck.append(f\"{rank} of {suit}\")\n",
    "    return deck\n",
    "\n",
    "print(make_sorted_deck())"
   ]
  },
  {
   "cell_type": "code",
   "execution_count": 19,
   "id": "7aad424c-36f6-4d5e-b3f4-3b478ea0ee95",
   "metadata": {
    "tags": []
   },
   "outputs": [
    {
     "ename": "NameError",
     "evalue": "name 'deck' is not defined",
     "output_type": "error",
     "traceback": [
      "\u001b[0;31m---------------------------------------------------------------------------\u001b[0m",
      "\u001b[0;31mNameError\u001b[0m                                 Traceback (most recent call last)",
      "Cell \u001b[0;32mIn[19], line 19\u001b[0m\n\u001b[1;32m     16\u001b[0m     random\u001b[38;5;241m.\u001b[39mshuffle(deck)\n\u001b[1;32m     17\u001b[0m     \u001b[38;5;28;01mreturn\u001b[39;00m deck\n\u001b[0;32m---> 19\u001b[0m \u001b[38;5;28mprint\u001b[39m(shuffle(\u001b[43mdeck\u001b[49m))\n",
      "\u001b[0;31mNameError\u001b[0m: name 'deck' is not defined"
     ]
    }
   ],
   "source": [
    "'''\n",
    "Randomly shuffle the cards in deck into a newly created deck of cards(list). \n",
    ":param: deck: A deck of cards    \n",
    ":return: A new list, consisting of a random shuffle of deck.    \n",
    "\n",
    "EXAMPLE: shuffle([\n",
    "    '2 of hearts', \n",
    "    '3 of diamonds', \n",
    "    'jack of spades', \n",
    "    '2 ofclubs'\n",
    "    ]) \n",
    "could return        \n",
    "['jack of spades', '3 of diamonds', '2 of hearts', '2 of clubs']    \n",
    "    '''\n",
    "def shuffle(deck):\n",
    "    random.shuffle(deck)\n",
    "    return deck\n",
    "\n",
    "print(shuffle(deck))"
   ]
  },
  {
   "cell_type": "code",
   "execution_count": 20,
   "id": "280dd760-7a97-4bed-a0b9-bb295ad013aa",
   "metadata": {
    "tags": []
   },
   "outputs": [
    {
     "ename": "NameError",
     "evalue": "name 'deck' is not defined",
     "output_type": "error",
     "traceback": [
      "\u001b[0;31m---------------------------------------------------------------------------\u001b[0m",
      "\u001b[0;31mNameError\u001b[0m                                 Traceback (most recent call last)",
      "Cell \u001b[0;32mIn[20], line 16\u001b[0m\n\u001b[1;32m     13\u001b[0m         output\u001b[38;5;241m.\u001b[39mappend(deck[i \u001b[38;5;241m%\u001b[39m \u001b[38;5;28mlen\u001b[39m(deck)])\n\u001b[1;32m     14\u001b[0m     \u001b[38;5;28;01mreturn\u001b[39;00m output\n\u001b[0;32m---> 16\u001b[0m \u001b[38;5;28mprint\u001b[39m(deal(\u001b[43mdeck\u001b[49m,n))\n",
      "\u001b[0;31mNameError\u001b[0m: name 'deck' is not defined"
     ]
    }
   ],
   "source": [
    "'''\n",
    "This functions takes the list argument deck, the integer n (<0 and <= 52)  and deals \n",
    "n consecutive cards starting from a position chosen at randomin the deck.    \n",
    ":param: deck: A list of a full deck of cards (not necessarily sorted)\n",
    ":param: n: A positive integers, less or equal than 52    \n",
    ":return: A list of consecutive n cards, picked at random    \n",
    "'''\n",
    "def deal(deck,n):\n",
    "    index = random.randint(0,52)\n",
    "    print(index)\n",
    "    output = []\n",
    "    for i in range(index, index+n):\n",
    "        output.append(deck[i % len(deck)])\n",
    "    return output\n",
    "\n",
    "print(deal(deck,n))"
   ]
  },
  {
   "cell_type": "markdown",
   "id": "78eb9162-d31c-4075-9e64-a9c711947e2c",
   "metadata": {},
   "source": [
    "## Question 6"
   ]
  },
  {
   "cell_type": "markdown",
   "id": "c52bb736-baeb-4318-973a-e212ba90c0cf",
   "metadata": {},
   "source": [
    "Complete the function so that it returns true if and only if the given stringis a palindrome. "
   ]
  },
  {
   "cell_type": "code",
   "execution_count": 21,
   "id": "0b0691c7-f94b-4844-a807-90b065210ad9",
   "metadata": {
    "tags": []
   },
   "outputs": [
    {
     "name": "stdout",
     "output_type": "stream",
     "text": [
      "True\n",
      "True\n",
      "False\n",
      "True\n",
      "True\n",
      "False\n"
     ]
    }
   ],
   "source": [
    "def is_palindrome(s: str)->bool:\n",
    "    if len(s) <= 1:\n",
    "        return True\n",
    "    \n",
    "    for i in range(len(s) // 2):\n",
    "        if s[i] == s[(-1)*i-1]:\n",
    "            return True\n",
    "        else:\n",
    "            return False\n",
    "\n",
    "        \n",
    "print(is_palindrome('')) #True    \n",
    "print(is_palindrome('a')) #True    \n",
    "print(is_palindrome('ab')) #False    \n",
    "print(is_palindrome('aa')) #True    \n",
    "print(is_palindrome('abba')) #True    \n",
    "print(is_palindrome('banana')) #False"
   ]
  },
  {
   "cell_type": "markdown",
   "id": "b7d10b8b-7828-4133-ab6d-8214ccee0b5d",
   "metadata": {},
   "source": [
    "For those of you who like challenges, try writing this function (if you don't get it, do not worry about it, it's a bit tricky.) \n",
    "\n",
    "Hint: Use is_palindrome as a helper function!"
   ]
  },
  {
   "cell_type": "code",
   "execution_count": 23,
   "id": "1ab17881-799a-45fd-a5d2-3370511fb405",
   "metadata": {
    "tags": []
   },
   "outputs": [
    {
     "name": "stdout",
     "output_type": "stream",
     "text": [
      "0\n",
      "1\n",
      "1\n",
      "5\n"
     ]
    }
   ],
   "source": [
    "def longest_palindrome(s: str)->int:\n",
    "    longest = \"\"\n",
    "    for i in range(len(s)):\n",
    "        for j in range(i+1, len(s)+1):\n",
    "            if is_palindrome(s[i:j]) and len(s[i:j]) > len(longest):\n",
    "                longest = s[i:j]\n",
    "    return len(longest)\n",
    "  \n",
    "print(longest_palindrome('')) #0\n",
    "print(longest_palindrome('a')) #1    \n",
    "print(longest_palindrome('ab')) #1    \n",
    "print(longest_palindrome('banana')) #5    "
   ]
  },
  {
   "cell_type": "markdown",
   "id": "7aed6612-198f-48ee-bceb-21a9babb1ac7",
   "metadata": {},
   "source": [
    "## Question 7"
   ]
  },
  {
   "cell_type": "markdown",
   "id": "e5930835-b5a2-43cb-a961-9ff3e6fd06b8",
   "metadata": {},
   "source": [
    "Import the random library and execute `random.seed(1)`.  Complete thefollowing function."
   ]
  },
  {
   "cell_type": "code",
   "execution_count": 24,
   "id": "b9d9ae7b-c0c3-4e42-9568-d35ffc4d975c",
   "metadata": {
    "tags": []
   },
   "outputs": [
    {
     "name": "stdout",
     "output_type": "stream",
     "text": [
      "{1: 2, 2: 1, 3: 1, 4: 3, 5: 1, 6: 0}\n"
     ]
    },
    {
     "data": {
      "text/plain": [
       "8"
      ]
     },
     "execution_count": 24,
     "metadata": {},
     "output_type": "execute_result"
    }
   ],
   "source": [
    "import random\n",
    "random.seed(1)\n",
    "\n",
    "def k_repeats(k:int)->int:\n",
    "    random.seed(1)\n",
    "    freq = {i: 0 for i in range(1, 7)}\n",
    "    rolls = 0\n",
    "    while max(freq.values()) < k:\n",
    "        roll = random.randint(1, 6)\n",
    "        freq[roll] += 1\n",
    "        rolls += 1\n",
    "    print(freq)\n",
    "    return rolls\n",
    "k_repeats(3)"
   ]
  },
  {
   "cell_type": "markdown",
   "id": "021221c8-e839-4625-8ce1-6c413d5afe90",
   "metadata": {},
   "source": [
    "## Question 8"
   ]
  },
  {
   "cell_type": "markdown",
   "id": "ac666488-977c-41d4-ba48-318368f2c10b",
   "metadata": {},
   "source": [
    " Import the random library and execute random.seed(1).  Complete thefollowing function."
   ]
  },
  {
   "cell_type": "code",
   "execution_count": 25,
   "id": "3679d3f0-ae6c-4a9d-ba26-23af6b9552a7",
   "metadata": {
    "tags": []
   },
   "outputs": [
    {
     "name": "stdout",
     "output_type": "stream",
     "text": [
      "[2, 5, 1]\n",
      "[5, 1, 3]\n",
      "[1, 3, 1]\n",
      "[3, 1, 4]\n",
      "[1, 4, 4]\n",
      "[4, 4, 4]\n",
      "8\n"
     ]
    }
   ],
   "source": [
    "import random\n",
    "random.seed(1)\n",
    "\n",
    "def three_consecutive()->int: \n",
    "    last_rolls = []\n",
    "    last_rolls.append(random.randint(1,6))\n",
    "    last_rolls.append(random.randint(1,6))\n",
    "    last_rolls.append(random.randint(1,6))\n",
    "    rolls = 3\n",
    "\n",
    "    while True:\n",
    "        print(last_rolls)\n",
    "    \n",
    "        if(last_rolls[0] == last_rolls[1] == last_rolls[2]):\n",
    "            break\n",
    "        else:\n",
    "            last_rolls.pop(0)\n",
    "            last_rolls.append(random.randint(1,6))\n",
    "            rolls += 1\n",
    "\n",
    "    return rolls\n",
    "\n",
    "print(three_consecutive())"
   ]
  },
  {
   "cell_type": "markdown",
   "id": "725a9f9d-b030-472a-88a1-869c2ac15338",
   "metadata": {},
   "source": [
    "## Question 9"
   ]
  },
  {
   "cell_type": "markdown",
   "id": "e7ea6d8b-594b-4378-9688-80c6bed83fd2",
   "metadata": {},
   "source": [
    "You quickly realize that question 7 from \"Exercises - Lab 4\" is sometimes incomprehensible and you would like to improve your method by removing only those vowels that directly follow another letter. This means keeping the vowel at the beginning of a word, if there is one there, to begin with. Special characters are not to be changed. Write a Python function shorten Plus that takes in an arbitrary string and removes some vowels. \n",
    "\n",
    "```\n",
    "shorten('What is the airspeed velocity of an unladen swallow?')\n",
    ">>> 'Wht is th arspd vlcty of an unldn swllw?'\n",
    "```"
   ]
  },
  {
   "cell_type": "code",
   "execution_count": 28,
   "id": "9c8e3dfe-b4a4-468c-9416-f1bbc8cbc79a",
   "metadata": {
    "tags": []
   },
   "outputs": [
    {
     "name": "stdout",
     "output_type": "stream",
     "text": [
      "Wht is th arspd vlcty of an unldn swllw?\n"
     ]
    }
   ],
   "source": [
    "def shorten(s):\n",
    "    vowels = \"AaEeIiOoUu\"\n",
    "    s = list(s)\n",
    "    for i in range(len(s)):\n",
    "        if s[i] in vowels:\n",
    "            if s[i-1] != ' ':\n",
    "                s[i] = ''\n",
    "    s = ''.join(s)\n",
    "    print(s)\n",
    "\n",
    "shorten('What is the airspeed velocity of an unladen swallow?')"
   ]
  },
  {
   "cell_type": "markdown",
   "id": "8e712e7c-c6fb-4eb1-a7fa-fa25a43eae10",
   "metadata": {},
   "source": [
    "## Question 10"
   ]
  },
  {
   "cell_type": "markdown",
   "id": "2debbc60-eaad-499f-bd9a-fd30b01c71ee",
   "metadata": {},
   "source": [
    "A powerlist of a list l is the list of all sublists of l, with the order of elements of l preserved. However, the elements do not need to be consecutive in l.\n",
    "\n",
    "Write a Python function power list that takes in an arbitrary list l and returns a list of sublists (their order is arbitrary)."
   ]
  },
  {
   "cell_type": "markdown",
   "id": "2f0a1093-c4d1-4fc7-8b94-30c83e020408",
   "metadata": {},
   "source": [
    "```\n",
    ">>> powerlist([1,2,3])\n",
    "[[],[1],[2],[1,2],[3],[1,3],[2,3],[1,2,3]]\n",
    "```"
   ]
  },
  {
   "cell_type": "code",
   "execution_count": 32,
   "id": "b8e45194-3d82-48b2-a284-2422593de518",
   "metadata": {},
   "outputs": [
    {
     "name": "stdout",
     "output_type": "stream",
     "text": [
      "[[], [1], [2], [1, 2], [3], [1, 3], [2, 3], [1, 2, 3]]\n"
     ]
    }
   ],
   "source": [
    "def powerlist(l):\n",
    "    output = [[]]\n",
    "    for i in range(0, len(l)):\n",
    "        for j in range(0, len(output)):\n",
    "            List = []\n",
    "            for k in range(0, len(output[j])):\n",
    "                List.append(output[j][k])\n",
    "            List.append(l[i])\n",
    "            output.append(List)\n",
    "    return output\n",
    "    \n",
    "print(powerlist([1,2,3]))"
   ]
  },
  {
   "cell_type": "code",
   "execution_count": null,
   "id": "aaf0b0f6-7513-47f3-9d9d-50716e378bd5",
   "metadata": {},
   "outputs": [],
   "source": []
  }
 ],
 "metadata": {
  "kernelspec": {
   "display_name": "Python 3 (ipykernel)",
   "language": "python",
   "name": "python3"
  },
  "language_info": {
   "codemirror_mode": {
    "name": "ipython",
    "version": 3
   },
   "file_extension": ".py",
   "mimetype": "text/x-python",
   "name": "python",
   "nbconvert_exporter": "python",
   "pygments_lexer": "ipython3",
   "version": "3.9.16"
  }
 },
 "nbformat": 4,
 "nbformat_minor": 5
}
