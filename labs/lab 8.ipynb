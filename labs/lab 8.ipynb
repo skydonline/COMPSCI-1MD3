{
 "cells": [
  {
   "cell_type": "markdown",
   "id": "b72b3fed-6843-4660-89d2-9d855b34e0a6",
   "metadata": {},
   "source": [
    "# Lab Exercise 8"
   ]
  },
  {
   "cell_type": "markdown",
   "id": "4e36a740-0c6e-4261-b4bd-f8f93a163dff",
   "metadata": {},
   "source": [
    "This is the last week of classes. Today we'll be focusing on try and except, revisiting some File I/O, and introducing some problems about classes. \n",
    "\n",
    "*This notebook will serve as an excellent study tool for the final exam.*"
   ]
  },
  {
   "cell_type": "markdown",
   "id": "6157fd7c-7f7d-4624-850b-c467170f4fe4",
   "metadata": {},
   "source": [
    "## Try and Except Problems:"
   ]
  },
  {
   "cell_type": "markdown",
   "id": "5b927616-7bc0-4407-8e16-8169e6cec6ba",
   "metadata": {},
   "source": [
    "### Question 1:"
   ]
  },
  {
   "cell_type": "markdown",
   "id": "e006af75-c12b-4af2-8faf-244399090cd6",
   "metadata": {},
   "source": [
    "Design a function which opens a `.csv` file, converts each row to a dictionary, and returns a list of these dictionaries. For now, you may assume that every input file is a `.csv` and that the input file is stored in the same directory as this notebook."
   ]
  },
  {
   "cell_type": "code",
   "execution_count": null,
   "id": "9ee3a475-2a31-43ae-a2b2-a3ce2129c436",
   "metadata": {
    "tags": []
   },
   "outputs": [],
   "source": [
    "from pathlib import Path\n",
    "from typing import Dict\n",
    "import csv\n",
    "\n",
    "def open_csv(file_name: str) -> Dict:\n",
    "    with open(file_name+\".csv\",\"r\") as file:\n",
    "        reader = csv.DictReader(file)\n",
    "        for line in reader:\n",
    "            print(line)"
   ]
  },
  {
   "cell_type": "code",
   "execution_count": null,
   "id": "4882cb4a-a070-45bb-80f4-4eced2313d77",
   "metadata": {
    "tags": []
   },
   "outputs": [],
   "source": [
    "open_csv(\"hello\")"
   ]
  },
  {
   "cell_type": "markdown",
   "id": "cc025193-a1ed-4f25-bd98-4ea64e6fc726",
   "metadata": {},
   "source": [
    "### Question 2:"
   ]
  },
  {
   "cell_type": "markdown",
   "id": "9b675f91-04ca-469d-a97a-1d8e4fb0f717",
   "metadata": {},
   "source": [
    "Question 1 should be familiar from what we did last Monday. Now that we've gained a little experience with try/except in class, we're ready to solve the problem of \"what happens if my file doesn't open...?\""
   ]
  },
  {
   "cell_type": "markdown",
   "id": "9075c497-55a7-4e64-a5ba-4508a4463b8a",
   "metadata": {},
   "source": [
    "Modify the function body from question 1 to implement an exception handler (should the file not open)."
   ]
  },
  {
   "cell_type": "code",
   "execution_count": null,
   "id": "490ed854-62a6-4536-9f39-0178c4f75ccd",
   "metadata": {
    "tags": []
   },
   "outputs": [],
   "source": [
    "def open_csv(file_name: str) -> Dict:\n",
    "    try:\n",
    "        final = []\n",
    "        with open(file_name+\".csv\",\"r\") as file:\n",
    "            reader = csv.DictReader(file)\n",
    "            for line in reader:\n",
    "                final.append(line)\n",
    "        return final\n",
    "    except OSError:\n",
    "        print(\"There was a problem opening the file\")"
   ]
  },
  {
   "cell_type": "code",
   "execution_count": null,
   "id": "128e3eca-7d70-443e-9330-5d6059aad322",
   "metadata": {
    "tags": []
   },
   "outputs": [],
   "source": [
    "dictionary = open_csv(\"hello\") # This one works fine\n",
    "print(dictionary)\n",
    "dictionary = open_csv(\"hell\") # This one fails, but without a nasty red box screaming at you.\n",
    "print(dictionary)"
   ]
  },
  {
   "cell_type": "markdown",
   "id": "20cd83be-50c7-455d-875a-06480aeea7b3",
   "metadata": {},
   "source": [
    "### Question 3:"
   ]
  },
  {
   "cell_type": "markdown",
   "id": "47abcff9-6c8e-4a31-aeba-b224c5fc3ccf",
   "metadata": {},
   "source": [
    "Awesome. Question 2 is a perfect example of how to fail-safe your code when opening files, but things could still go wrong. Take the following code for instance:"
   ]
  },
  {
   "cell_type": "code",
   "execution_count": null,
   "id": "de737fce-caa7-45b9-99d8-24bc108d9f94",
   "metadata": {
    "tags": []
   },
   "outputs": [],
   "source": [
    "dictionary = open_csv(3) # Not so fine anymore."
   ]
  },
  {
   "cell_type": "markdown",
   "id": "844e8bf2-e1b3-420d-98be-c30a7319e985",
   "metadata": {},
   "source": [
    "Yikes! A big red screaming box. We didn't account for that input did we?\n",
    "\n",
    "We see right in the cell above that there was a `TypeError` upon inputting a non-string type into the `file_name` parameter.\n",
    "\n",
    "Modify question 2 even further to account for this error as well."
   ]
  },
  {
   "cell_type": "code",
   "execution_count": 1,
   "id": "753c6794-2a96-495c-a417-35f6067db587",
   "metadata": {
    "tags": []
   },
   "outputs": [
    {
     "ename": "NameError",
     "evalue": "name 'Dict' is not defined",
     "output_type": "error",
     "traceback": [
      "\u001b[0;31m---------------------------------------------------------------------------\u001b[0m",
      "\u001b[0;31mNameError\u001b[0m                                 Traceback (most recent call last)",
      "Cell \u001b[0;32mIn[1], line 1\u001b[0m\n\u001b[0;32m----> 1\u001b[0m \u001b[38;5;28;01mdef\u001b[39;00m \u001b[38;5;21mopen_csv\u001b[39m(file_name: \u001b[38;5;28mstr\u001b[39m) \u001b[38;5;241m-\u001b[39m\u001b[38;5;241m>\u001b[39m \u001b[43mDict\u001b[49m:\n\u001b[1;32m      2\u001b[0m     \u001b[38;5;28;01mtry\u001b[39;00m:\n\u001b[1;32m      3\u001b[0m         final \u001b[38;5;241m=\u001b[39m []\n",
      "\u001b[0;31mNameError\u001b[0m: name 'Dict' is not defined"
     ]
    }
   ],
   "source": [
    "def open_csv(file_name: str) -> Dict:\n",
    "    try:\n",
    "        final = []\n",
    "        with open(file_name+\".csv\",\"r\") as file:\n",
    "            reader = csv.DictReader(file)\n",
    "            for line in reader:\n",
    "                final.append(line)\n",
    "        return final\n",
    "    except OSError:\n",
    "        print(\"There was a problem opening the file\")\n",
    "    except TypeError:\n",
    "        print(\"There was a TypeError that occured\")"
   ]
  },
  {
   "cell_type": "markdown",
   "id": "86cd73a0-3a4e-4527-aa0a-2486ba3c9459",
   "metadata": {},
   "source": [
    "Now if we test that faulty input again:"
   ]
  },
  {
   "cell_type": "code",
   "execution_count": null,
   "id": "8bd1be9e-7a13-4336-afb7-186ed9b3e76f",
   "metadata": {
    "tags": []
   },
   "outputs": [],
   "source": [
    "dictionary = open_csv(3) # works again!"
   ]
  },
  {
   "cell_type": "markdown",
   "id": "db484b31-2216-4968-8786-cc412a4bd7cf",
   "metadata": {},
   "source": [
    "Excellent work!"
   ]
  },
  {
   "cell_type": "markdown",
   "id": "d8258c26-1041-46d0-b48f-637a090a27a7",
   "metadata": {},
   "source": [
    "### Question 4:"
   ]
  },
  {
   "cell_type": "markdown",
   "id": "056480f5-a4cb-4626-a36e-c2b70027e78a",
   "metadata": {},
   "source": [
    "And the exceptions don't end there. There will always be plenty of ways for a user to crash your software during runtime, so you need to be very careful about exception handling. It's always good to go through and hardcode a few \"common\" exceptions, and then have one \"catch-all\" exception for all the other ways you never thought your program could crash and burn."
   ]
  },
  {
   "cell_type": "markdown",
   "id": "28b063e9-2173-408b-8103-d49bfd36033e",
   "metadata": {},
   "source": [
    "Finish off your code revisions for `open_csv` by adding a catch-all exception handler."
   ]
  },
  {
   "cell_type": "code",
   "execution_count": null,
   "id": "b7fa029f-a39d-4482-b4ac-f01ed182bf1e",
   "metadata": {
    "tags": []
   },
   "outputs": [],
   "source": [
    "def open_csv(file_name: str) -> Dict:\n",
    "    try:\n",
    "        final = []\n",
    "        with open(file_name+\".csv\",\"r\") as file:\n",
    "            reader = csv.DictReader(file)\n",
    "            for line in reader:\n",
    "                final.append(line)\n",
    "        return final\n",
    "    except OSError:\n",
    "        print(\"There was a problem opening the file\")\n",
    "    except TypeError:\n",
    "        print(\"There was a TypeError that occured\")\n",
    "    except:\n",
    "        print(\"There was a generic problem.\")"
   ]
  },
  {
   "cell_type": "markdown",
   "id": "8c5d76b5-2460-45b8-a08e-da7c9627fb22",
   "metadata": {},
   "source": [
    "Let's quickly have a look at the Python documentation for \"Built-in Exceptions\": https://docs.python.org/3/library/exceptions.html"
   ]
  },
  {
   "cell_type": "markdown",
   "id": "ed7ad0fe-6a43-42b9-aa0a-03b93d816aee",
   "metadata": {},
   "source": [
    "## Debugging Problems"
   ]
  },
  {
   "cell_type": "markdown",
   "id": "849b584f-4f5c-4394-9e27-4eda901570c2",
   "metadata": {},
   "source": [
    "Now that we've reacquainted ourselves with try/except, let's change gears and take a look at debugging some code. You might find that exception handling will come in handy in the process of debugging code."
   ]
  },
  {
   "cell_type": "markdown",
   "id": "9eb9b111-3bab-494c-85b9-f2352852a5cf",
   "metadata": {
    "tags": []
   },
   "source": [
    "### Question 5"
   ]
  },
  {
   "cell_type": "markdown",
   "id": "821b9304-c074-486e-9948-e82a757a53e3",
   "metadata": {},
   "source": [
    "Consider the horrendous powerset question from the recursion exercises. This one took me quite a long time to work through, and the most useful tool I had at my disposal was the `print()` statement."
   ]
  },
  {
   "cell_type": "code",
   "execution_count": null,
   "id": "837ad3d8-4047-45fe-ba11-8e8192665ad4",
   "metadata": {
    "tags": []
   },
   "outputs": [],
   "source": [
    "from typing import List\n",
    "import copy\n",
    "\n",
    "# We use the above observations to design the following function:\n",
    "\n",
    "def powerset(l: List[int]):\n",
    "    # If we're at the lowest level, (the powerset of nothing) then the result is the set contining only the empty set.\n",
    "    if (len(l) == 0):\n",
    "        # If we're at the lowest level, (the powerset of nothing) then the result is the set contining only the empty set.\n",
    "        return [[]]\n",
    "    else:\n",
    "        # If we supply a set containing one or more items, then compute the power set of all elements up to (but not including) the last element of that set.\n",
    "        current = powerset(l[:-1])\n",
    "        # We want to copy the current array so that we can add the new value to each of the subsets and then combine the two sets together.\n",
    "        new = copy.deepcopy(current) # We need to use deepcopy because there is a nested data structure (lists within a list).\n",
    "        \n",
    "        # Add the excluded value to each of the sublists (that don't include that excluded value).\n",
    "        for i in range(0,len(new)):\n",
    "            new[i].append(l[-1])\n",
    "        \n",
    "        # Return the list of elements that now contain the excluded value combined with the original list.\n",
    "        return (current + new)\n",
    "\n",
    "# Tests:\n",
    "print(powerset([]))\n",
    "print(powerset([0]))\n",
    "print(powerset([1]))\n",
    "print(powerset([1,2]))\n",
    "print(powerset([1,2,3]))\n",
    "print(powerset([1,2,4]))\n",
    "print(powerset([1,2,3,4]))\n",
    "print(powerset([1,2,4,8]))"
   ]
  },
  {
   "cell_type": "markdown",
   "id": "084266dd-afa6-45f4-997b-a45d878f6ac9",
   "metadata": {},
   "source": [
    "Yes, clearly the code works fine, but how did I come up with my solution?"
   ]
  },
  {
   "cell_type": "markdown",
   "id": "3ef971d4-df8b-4a69-85ba-06fb478213e4",
   "metadata": {},
   "source": [
    "Here's the rough process:\n",
    "1. I experimented with some test values\n",
    "2. I found the pattern as the sets got bigger\n",
    "3. I experimented with the boundary cases: \"what is the simplest case for this function?\"\n",
    "4. As I tried each new idea, I printed out every value from every line as I went along."
   ]
  },
  {
   "cell_type": "markdown",
   "id": "7ca78375-c219-4e31-9a57-f83dcfed4c91",
   "metadata": {},
   "source": [
    "Let me try building the function again while making heavy use of the `print()` statement."
   ]
  },
  {
   "cell_type": "code",
   "execution_count": null,
   "id": "cfe1f1a7-2a6e-44a1-a194-f469b4fa36a4",
   "metadata": {
    "tags": []
   },
   "outputs": [],
   "source": [
    "def powerset(l: List[int]):\n",
    "    "
   ]
  },
  {
   "cell_type": "markdown",
   "id": "ab64067f-0a95-4124-badc-1759c68d468f",
   "metadata": {},
   "source": [
    "### Question 6"
   ]
  },
  {
   "cell_type": "markdown",
   "id": "0d4c6ff2-39b6-4841-aa45-86023df9ed10",
   "metadata": {},
   "source": [
    "Now let's take a look at some flawed code and try to understand *why* it's flawed."
   ]
  },
  {
   "cell_type": "code",
   "execution_count": null,
   "id": "8b30d7cf-c99d-4cda-b56d-e70b760f7ef6",
   "metadata": {
    "tags": []
   },
   "outputs": [],
   "source": [
    "# This function is supposed to return the middle character(s) of a string, but it's not working! Please help!!\n",
    "\n",
    "def middle_characters(string: str):\n",
    "    length = len(string)\n",
    "    midpoint = length/2\n",
    "    return string[midpoint:midpoint+1]"
   ]
  },
  {
   "cell_type": "code",
   "execution_count": null,
   "id": "89b31eae-73ec-468d-a0f0-a70ac456a394",
   "metadata": {
    "tags": []
   },
   "outputs": [],
   "source": [
    "# Let's try testing an input and seeing what happens.\n",
    "middle_characters(\"hellos\")"
   ]
  },
  {
   "cell_type": "code",
   "execution_count": null,
   "id": "58cbfd98-d316-4708-ba74-07252c301be4",
   "metadata": {
    "tags": []
   },
   "outputs": [],
   "source": [
    "### the solution is using integer division instead. ###"
   ]
  },
  {
   "cell_type": "code",
   "execution_count": null,
   "id": "ba0ed0e6-2eb8-404b-9d1f-12f387be4172",
   "metadata": {
    "tags": []
   },
   "outputs": [],
   "source": [
    "# Solution with some print statement to understand why it's flawed.\n",
    "def middle_characters(string: str):\n",
    "    length = len(string)\n",
    "    midpoint = length//2\n",
    "    print(midpoint)\n",
    "    if (length % 2 == 0):\n",
    "        return string[midpoint-1:midpoint+1]\n",
    "    else:\n",
    "        return string[midpoint]"
   ]
  },
  {
   "cell_type": "code",
   "execution_count": null,
   "id": "184483fa-d988-45fc-948d-f47619d90d01",
   "metadata": {
    "tags": []
   },
   "outputs": [],
   "source": [
    "middle_characters(\"hel00lo00\")"
   ]
  },
  {
   "cell_type": "markdown",
   "id": "8cd3c351-10e7-4a7e-9b51-63c2138e2186",
   "metadata": {},
   "source": [
    "## A brief introduction to Classes"
   ]
  },
  {
   "cell_type": "markdown",
   "id": "7e7495f8-f1f0-4c64-bef6-b7181853e986",
   "metadata": {
    "tags": []
   },
   "source": [
    "### Question 7: Class definitions"
   ]
  },
  {
   "cell_type": "markdown",
   "id": "854182d2-a74e-4eab-8766-811131b57f8e",
   "metadata": {},
   "source": [
    "Write a class which stores the following attributes about an animal\n",
    "\n",
    "- Nickname\n",
    "- Species\n",
    "- Date of birth\n",
    "\n",
    "Also write a method which briefly describes the animal, as well as a method which calculates how many years it's been alive (you can assume the current year is 2023)."
   ]
  },
  {
   "cell_type": "code",
   "execution_count": null,
   "id": "d3ecd68c-9e38-45a9-96c2-b70c62e5ea73",
   "metadata": {
    "tags": []
   },
   "outputs": [],
   "source": [
    "class Animal:\n",
    "    def __init__(self, nickname: str, species: str, date_of_birth: str):\n",
    "        self.nickname = nickname\n",
    "        self.species = species\n",
    "        self.date_of_birth = date_of_birth\n",
    "    def get_age(self)->str:\n",
    "        return 2023 - int(str(self.date_of_birth).split(\"-\")[-1])\n",
    "    def get_description(self)->str:\n",
    "        return self.nickname + \" is a \" + self.species + \" that was born on \" + self.date_of_birth"
   ]
  },
  {
   "cell_type": "code",
   "execution_count": null,
   "id": "fb71693f-2626-4ac4-ba69-843edb74659c",
   "metadata": {
    "tags": []
   },
   "outputs": [],
   "source": [
    "Lion = Animal(\"Simba\", \"Lion\", \"05-08-1999\")"
   ]
  },
  {
   "cell_type": "code",
   "execution_count": null,
   "id": "73643f82-7137-440f-9744-f826aa74475d",
   "metadata": {
    "tags": []
   },
   "outputs": [],
   "source": [
    "print(Lion.get_age())"
   ]
  },
  {
   "cell_type": "markdown",
   "id": "e535167c-7472-4f76-a77a-9370e0627af7",
   "metadata": {},
   "source": [
    "### Question 8: Class inheritance"
   ]
  },
  {
   "cell_type": "markdown",
   "id": "be16b751-5cac-46bc-aefe-4897cd2924da",
   "metadata": {},
   "source": [
    "Now let's write a `Lion` class which inherits all of the attributes and methods from the `Animal` class, along with a few extra methods that are more suited for a `Lion`."
   ]
  },
  {
   "cell_type": "code",
   "execution_count": null,
   "id": "742a9e92-7606-41a1-b295-c877c9f75a2f",
   "metadata": {
    "tags": []
   },
   "outputs": [],
   "source": [
    "class Lion(Animal):\n",
    "    def __init__(self, nickname: str, date_of_birth: str):\n",
    "        super().__init__(nickname, \"Lion\", date_of_birth) \n",
    "        # we already know it's a lion, so don't leave it up to the user to decide what species a LION is--that would be ridiculous.\n",
    "    def roar(self):\n",
    "        print(self.nickname,\"has roared a mighty roar: \\\"ROAR!!!!!!!\\\"\")\n",
    "    def scratch(self):\n",
    "        print(self.nickname,\"has scratched.\")"
   ]
  },
  {
   "cell_type": "code",
   "execution_count": null,
   "id": "43e61036-cf9d-4104-98e7-c36532103ea2",
   "metadata": {
    "tags": []
   },
   "outputs": [],
   "source": [
    "simba = Lion(\"Simba\", \"05-08-1999\")"
   ]
  },
  {
   "cell_type": "code",
   "execution_count": null,
   "id": "cc19a7ed-4144-4d2e-9953-087d21aa6eaa",
   "metadata": {
    "tags": []
   },
   "outputs": [],
   "source": [
    "simba.roar()"
   ]
  },
  {
   "cell_type": "code",
   "execution_count": null,
   "id": "50df0346-f86d-480c-8d72-12935bba7858",
   "metadata": {
    "tags": []
   },
   "outputs": [],
   "source": [
    "simba.scratch()"
   ]
  },
  {
   "cell_type": "markdown",
   "id": "93420738-13e7-4179-b28e-1e90f54c4cce",
   "metadata": {},
   "source": [
    "***This is only the beginning. There are plenty of real-world applications to classes that we will possibly discuss tomorrow.***"
   ]
  }
 ],
 "metadata": {
  "kernelspec": {
   "display_name": "Python 3 (ipykernel)",
   "language": "python",
   "name": "python3"
  },
  "language_info": {
   "codemirror_mode": {
    "name": "ipython",
    "version": 3
   },
   "file_extension": ".py",
   "mimetype": "text/x-python",
   "name": "python",
   "nbconvert_exporter": "python",
   "pygments_lexer": "ipython3",
   "version": "3.9.16"
  }
 },
 "nbformat": 4,
 "nbformat_minor": 5
}
