{
 "cells": [
  {
   "cell_type": "markdown",
   "id": "8924a777",
   "metadata": {},
   "source": [
    "# Exercises: Week 1\n",
    "\n",
    "**This handout is desiged for you to follow along during tutorial.** You are encouraged to attempt these problems beforehand.\n",
    "\n",
    "The solutions will be posted on Avenue2Learn after the tutorial."
   ]
  },
  {
   "cell_type": "markdown",
   "id": "1b271016",
   "metadata": {},
   "source": [
    "## Exercise 1\n",
    "\n",
    "Write a function which calculates the area of a rectangle. Consider the number of arguments needed, and what they should be named."
   ]
  },
  {
   "cell_type": "code",
   "execution_count": null,
   "id": "4f947b60",
   "metadata": {},
   "outputs": [],
   "source": [
    "# Your code goes here:\n",
    "# def function_name(arg1,arg2,arg3,...,argn):\n",
    "def rectangle_area(length,width):\n",
    "    return length * width"
   ]
  },
  {
   "cell_type": "markdown",
   "id": "ec5716fd",
   "metadata": {},
   "source": [
    "## Exercise 2\n",
    "\n",
    "Write a function which calculates the area of a square, but do so using yourprevious function from [exercise 1](#Exercise-1). \n",
    "\n",
    "*Thought: Calculating the area of a square is pretty simple--so why would one write a function for it rather than just writing it directly in their code?*"
   ]
  },
  {
   "cell_type": "code",
   "execution_count": null,
   "id": "af394d76",
   "metadata": {},
   "outputs": [],
   "source": [
    "def square_area(length):\n",
    "    return rectangle_area(length, length)"
   ]
  },
  {
   "cell_type": "markdown",
   "id": "2652ef73",
   "metadata": {},
   "source": [
    "## Exercise 3\n",
    "\n",
    "What are the values of `x` and `y` after this code has been executed?\n",
    "\n",
    "```\n",
    "x = 8\n",
    "y = x + 1\n",
    "x = (y + 2*x) // 6\n",
    "y = -(y + 1)\n",
    "y = x/y\n",
    "```\n",
    "\n",
    "*Recommendation: Try working it out yourself (on paper) before executing the code.*"
   ]
  },
  {
   "cell_type": "code",
   "execution_count": 3,
   "id": "b3dbbbd0",
   "metadata": {
    "tags": []
   },
   "outputs": [],
   "source": [
    "x = 4\n",
    "y = -0.4"
   ]
  },
  {
   "cell_type": "markdown",
   "id": "85b5de89",
   "metadata": {},
   "source": [
    "## Exercise 4\n",
    "\n",
    "Write a function which calculates the positive root of a quadratic (of the traditional form ax2+bx+c=0). Recall that the quadratic formula is given by the equation:\n",
    "\n",
    "$$x = \\frac{-b \\pm \\sqrt{b^2-4ac}}{2a}$$\n",
    "\n",
    "*Question: Does your function work for all possible parameters? What issue could cause a problem?*"
   ]
  },
  {
   "cell_type": "code",
   "execution_count": null,
   "id": "9519f7cc",
   "metadata": {},
   "outputs": [],
   "source": [
    "def pos_quadratic(a,b,c):\n",
    "    #checks first root (adding)\n",
    "    x1 = (-b + (b**2 - 4*a*c)**(1/2))/(2*a)\n",
    "    #checks if positive\n",
    "    if x1 > 0:\n",
    "        print(x1)\n",
    "        \n",
    "    #checks other root (subtracting)\n",
    "    x2 = (-b - (b**2 - 4*a*c)**(1/2))/(2*a)\n",
    "    #checks if positive\n",
    "    if x2 > 0:\n",
    "        print(x2)"
   ]
  },
  {
   "cell_type": "markdown",
   "id": "47c259ac",
   "metadata": {},
   "source": [
    "## Exercise 5\n",
    "\n",
    "Using only the material seen so far, write a function which returns the absolute value of a float. \n",
    "\n",
    "For example, if you give your function `5.0` it should return `5.0`, if you give your function `-18.0`, it should return `18.0`. Do not use \"if statements\" or built in Python functions. \n",
    "\n",
    "*Note: this one is a bit tricky, but give it a shot.*"
   ]
  },
  {
   "cell_type": "code",
   "execution_count": null,
   "id": "98c54834",
   "metadata": {},
   "outputs": [],
   "source": [
    "def absolute_value(x):\n",
    "    #take square root of number squared\n",
    "    x = (x**2)**(1/2)\n",
    "    return x"
   ]
  },
  {
   "cell_type": "markdown",
   "id": "1b670d63",
   "metadata": {},
   "source": [
    "## Exercise 6\n",
    "\n",
    "There are three variables: `a, b, c`. Write code to rotate/shift the variables so that a's value is stored in b, b's value is stored in c, and c's value isstored in a.\n",
    "\n",
    "Consider the following example on the python interpreter:\n",
    "\n",
    "```\n",
    ">>> # Original values\n",
    ">>> a\n",
    "5\n",
    ">>> b\n",
    "10\n",
    ">>> c\n",
    "15\n",
    ">>> # Your code will execute\n",
    ">>> # .\n",
    ">>> # .\n",
    ">>> # .\n",
    ">>> # New values after your code has been compiled:\n",
    ">>> a\n",
    "15\n",
    ">>> b\n",
    "5\n",
    ">>> c\n",
    "10\n",
    "```"
   ]
  },
  {
   "cell_type": "code",
   "execution_count": null,
   "id": "c7b88528",
   "metadata": {},
   "outputs": [],
   "source": [
    "a = 5\n",
    "b = 10\n",
    "c = 15\n",
    "\n",
    "#change values\n",
    "a,b,c = c,a,b"
   ]
  },
  {
   "cell_type": "markdown",
   "id": "6587f3d1",
   "metadata": {},
   "source": [
    "# Exercise 7\n",
    "\n",
    "Write a Python function called greet that takes one parameter, containing the name of a person, and behaves as follows (on IDLE):\n",
    "\n",
    "```\n",
    ">>> greet('Ilir')\n",
    "Greetings, Ilir\n",
    "How about a nice game of chess?\n",
    ">>> greet('Vincent')\n",
    "Greetings, Vincent\n",
    "How about a nice game of chess?\n",
    ">>>print(greet('Ilir'))\n",
    "Greetings,Ilir\n",
    "How about a nice game of chess?\n",
    "None\n",
    "```"
   ]
  },
  {
   "cell_type": "code",
   "execution_count": 2,
   "id": "fc72bda5",
   "metadata": {
    "tags": []
   },
   "outputs": [],
   "source": [
    "def greet(x):\n",
    "    print(\"Greetings, \" + x + \"\\nHow about a nice game of chess?\")"
   ]
  }
 ],
 "metadata": {
  "kernelspec": {
   "display_name": "Python 3 (ipykernel)",
   "language": "python",
   "name": "python3"
  },
  "language_info": {
   "codemirror_mode": {
    "name": "ipython",
    "version": 3
   },
   "file_extension": ".py",
   "mimetype": "text/x-python",
   "name": "python",
   "nbconvert_exporter": "python",
   "pygments_lexer": "ipython3",
   "version": "3.9.14"
  }
 },
 "nbformat": 4,
 "nbformat_minor": 5
}
