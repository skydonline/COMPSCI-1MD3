{
 "cells": [
  {
   "cell_type": "markdown",
   "metadata": {},
   "source": [
    "# 1MD3 Assignment 2\n",
    "\n",
    "**Please read this document very carefully. Follow the instructions exactly. If you have any questions, please post them on the A2 channel on Teams.**\n",
    "\n",
    "**This assignment is due on May 26th, by 11:59pm. Please do not forget to press submit before the due date!**\n",
    "\n",
    "This assignment will be autograded, with each function worth 20% of the assignment grade.\n",
    "\n"
   ]
  },
  {
   "cell_type": "markdown",
   "metadata": {},
   "source": [
    "### Introduction\n",
    "Consider a section of the Earth’s surface from a birds-eye-view. The elevation may vary greatly\n",
    "across this section. See the Figures below as an example. If one were interested in analysing this area based on elevation, one could represent the section of Earth as a grid (list of lists) of numerical values,where each cell of the grid would indicate the elevation of the Earth at that particular location. \n",
    "For example, an area the size of 1 square kilometer of Earth could be encoded as a 1000x1000 matrix,\n",
    "where each cell is the elevation of a single square meter; here, the value at cell (500,500) of the grid, would be the elevation at approximately the middle of the original 1 square kilometer section.\n",
    "\n",
    "![image](image.png \"image\")\n",
    "\n",
    "\n",
    "For this assignment, you will implement several functions which will allow someone with such a\n",
    "grid of values to perform meaningful analysis on the area of the Earth’s surface the grid represents. A description regarding the intended behaviour of these functions is below.\n",
    "\n"
   ]
  },
  {
   "cell_type": "markdown",
   "metadata": {},
   "source": [
    "### Definitions:\n",
    "\n",
    "#### 1.\n",
    "An *elevation map* is of the type `List[List[int]]`, and moreover, the length of an elevation\n",
    "map equals the length of all elements within the elevation map. An elevation map will only\n",
    "contain positive numbers. An example of an elevation map is:\n",
    "`valid map = [[1,2,3],[4,5,6],[7,8,9]]`\n",
    "It may be more intuitive to view the map as:\n",
    "```\n",
    "valid map = [[1,2,3],\n",
    ". [4,5,6],\n",
    ". [7,8,9]]\n",
    "```\n",
    "The following two examples are not elevation maps (note the length of all the lists in each):\n",
    "```invalid map1 = [[1,2,3],[4,5],[6,7,8,9]]\n",
    "invalid map2 = [[1,2,3],[4,5,6],[7,8,9],[10,11,12]]\n",
    "```\n",
    "\n",
    "#### 2.\n",
    "A *cell* is of the type `List[int]` and has a length of 2. All values in a cell will be greater than\n",
    "or equal to 0. Within an elevation map `m`, we say cell [i, j] as a shorthand for `m[i][j]`. We also\n",
    "say cell [i, j] is adjacent to cell [n, m] if and only if [n, m] equals one of:\\\n",
    "[i + 1, j + 1], [i + 1, j], [i + 1, j − 1], [i, j − 1], \\\n",
    "[i, j + 1], [i − 1, j + 1], [i − 1, j], or [i − 1, j − 1] \\\n",
    "(definition of a neighbouring cell).\n",
    "\n",
    "#### 3.\n",
    "Within an elevation map `m`, cell [i, j] is a *sink* if for **all** adjacent cells [n, m], `m[i][j] ≤ m[n][m]`\n",
    "\n",
    "With the physical interpretation of an elevation map in mind, water would collect in sinks,\n",
    "since there is no less elevated area in the immediate vicinity for the water to flow to.\n"
   ]
  },
  {
   "cell_type": "markdown",
   "metadata": {},
   "source": [
    "#### Functions\n",
    "\n",
    "1. `differance_in_elevation(List[List[int]]) -> int`\n",
    "The first parameter is an elevation map, `m`. Return the difference between the highest point of elevation and the lowest point $(highest - lowest)$ across all the land in `m`.\n",
    "\n",
    "2. `find_bottom(List[List[int]]) -> List[int]`\n",
    "The first parameter is an elevation map, `m`. Returns the cell which contains the lowest\n",
    "elevation point in `m`. For the purposes of us testing this function, you may assume that all\n",
    "values of `m` are unique (no two locations have equal elevations).\n",
    "\n",
    "\n",
    "3. `is_sink(List[List[int]], List[int]) -> bool`\n",
    "The first parameter is an elevation map, `m`, the second parameter is a cell, `c`. Returns True\n",
    "if and only if `c` is a sink in `m`. Note if c does not exist in m (the values are outside m’s\n",
    "dimensions), this function returns `False`. See the previous section for the definition of a sink.\n",
    "\n",
    "\n",
    "4. `find_local_sink(List[List[int]], List[int]) -> List[int]`\n",
    "The first parameter is an elevation map, `m`, the second parameter is a cell, `c`, which exists in `m`.\n",
    "Returns the local sink of `c`. A local sink of `c` is the cell which water would flow to if it started\n",
    "at `c`. Assume if the current location isn’t a sink, water will always flow to the adjacent cell\n",
    "with the lowest elevation. You may also assume for the purposes of us testing this function,\n",
    "that all values of m are unique (no two locations have equal elevations). See the docstring for\n",
    "some examples.\n",
    "\n",
    "\n",
    "5. ` can_hike_to(List[List[int]], List[int], List[int], int) -> bool`\n",
    "The first parameter is an elevation map, `m`, the second is start cell, `s` which exists in `m`, the\n",
    "third is a destination cell, `d`, which exists in `m`, and the forth is the amount of available supplies.\n",
    "Under the interpretation that the top of the elevation map is north, you may **assume** that `d` is\n",
    "to the north-west of `s` (this means it could also be directly north, or directly west). The idea\n",
    "is, if a hiker started at `s` with a given amount of supplies could they reach `d` if they used the\n",
    "following strategy. The hiker looks at the cell directly to the north and the cell directly to the\n",
    "west, and then travels to the cell with the lower change in elevation. They keep repeating this\n",
    "stratagem until they reach d (return True) or they run out of supplies (return False). \\\n",
    "\\\n",
    "Assume to move from one cell to another takes an amount of supplies equal to the change in elevation\n",
    "between the cells (meaning the absolute value, so cell's being 1 higher or 1 lower would both cost the same amount of supplies). If the change in elevation is the same\n",
    "between going West and going North, the hiker will always go West. Also, the hiker will never\n",
    "choose to travel North, or West of `d` (they won’t overshoot their destination). That is, if `d` is\n",
    "directly to the West of them, they will only travel West, and if `d` is directly North, they will\n",
    "only travel North.\n",
    "\n",
    "\n",
    "\n"
   ]
  },
  {
   "cell_type": "markdown",
   "metadata": {},
   "source": [
    "#### Question 1\n",
    "`differance_in_elevation(List[List[int]]) -> int`\n",
    "The first parameter is an elevation map, `m`. Return the difference between the highest point of elevation and the lowest point $(highest - lowest)$ across all the land in `m`."
   ]
  },
  {
   "cell_type": "code",
   "execution_count": 233,
   "metadata": {},
   "outputs": [
    {
     "name": "stdout",
     "output_type": "stream",
     "text": [
      "0\n",
      "8\n",
      "17\n"
     ]
    }
   ],
   "source": [
    "#DONE!! \n",
    "#need to upload\n",
    "def difference_in_elevation(m):\n",
    "    if m == []:\n",
    "        return 0\n",
    "    \n",
    "    highest = m[0][0]\n",
    "    lowest = m[0][0]\n",
    "    for i in m:\n",
    "        for t in i:\n",
    "            if t > highest:\n",
    "                highest = t\n",
    "            if t < lowest:\n",
    "                lowest = t\n",
    "    \n",
    "    return highest - lowest\n",
    "\n",
    "print(difference_in_elevation([]))\n",
    "#0\n",
    "print(difference_in_elevation([[1,2,3],[4,5,6],[7,8,9]]))\n",
    "#8\n",
    "print(difference_in_elevation([[1,2,2,5],[4,5,4,8],[7,18,9,1],[1,2,1,4]]))\n",
    "#17"
   ]
  },
  {
   "cell_type": "markdown",
   "metadata": {},
   "source": [
    "#### Question 2\n",
    "`find_bottom(List[List[int]]) -> List[int]`\n",
    "The first parameter is an elevation map, `m`. Returns the cell which contains the lowest\n",
    "elevation point in `m`. For the purposes of us testing this function, you may assume that all\n",
    "values of `m` are unique (no two locations have equal elevations)."
   ]
  },
  {
   "cell_type": "code",
   "execution_count": 232,
   "metadata": {},
   "outputs": [
    {
     "name": "stdout",
     "output_type": "stream",
     "text": [
      "[0, 0]\n",
      "[1, 0]\n"
     ]
    }
   ],
   "source": [
    "#DONE!! \n",
    "#need to upload\n",
    "def find_bottom(m):\n",
    "    lowest = m[0][0]\n",
    "    i = 0\n",
    "    t = 0\n",
    "    c1 = 0\n",
    "    c2 = 0\n",
    "    while i in range(len(m)):\n",
    "        while t in range(len(m[i])):\n",
    "            if m[i][t] < lowest:\n",
    "                c1 = i\n",
    "                c2 = t\n",
    "                lowest = m[i][t]\n",
    "            t += 1\n",
    "        t = 0\n",
    "        i += 1\n",
    "    \n",
    "    return [c1, c2]\n",
    "\n",
    "print(find_bottom([[1,2,3],\n",
    "                   [9,8,7],\n",
    "                   [5,4,6]]))\n",
    "#0,0\n",
    "print(find_bottom([[6,2,3],\n",
    "                   [1,8,7],\n",
    "                   [5,4,9]]))\n",
    "#1,0"
   ]
  },
  {
   "cell_type": "markdown",
   "metadata": {},
   "source": [
    "#### Question 3\n",
    "`is_sink(List[List[int]], List[int]) -> bool`\n",
    "The first parameter is an elevation map, `m`, the second parameter is a cell, `c`. Returns True\n",
    "if and only if `c` is a sink in `m`. Note if c does not exist in m (the values are outside m’s\n",
    "dimensions), this function returns `False`. See the previous section for the definition of a sink."
   ]
  },
  {
   "cell_type": "code",
   "execution_count": 230,
   "metadata": {},
   "outputs": [
    {
     "name": "stdout",
     "output_type": "stream",
     "text": [
      "True\n",
      "True\n",
      "False\n",
      "True\n"
     ]
    }
   ],
   "source": [
    "#DONE!! \n",
    "#need to upload\n",
    "def is_sink(m,c):\n",
    "    if c[0] < 0 or c[0] >= len(m):\n",
    "        return False\n",
    "    if c[1] < 0 or c[1] >= len(m[0]):\n",
    "        return False\n",
    "    \n",
    "    for row in range(len(m)):\n",
    "        for col in range(len(m[row])):\n",
    "            if abs(row-c[0]) <= 1 and abs(col-c[1]) <= 1 and m[c[0]][c[1]] > m[row][col]:\n",
    "                return False\n",
    "    return True\n",
    "\n",
    "print(is_sink([[1,2,3],\n",
    "               [2,3,3],\n",
    "               [5,4,3]], [0,0]))\n",
    "#True\n",
    "print(is_sink([[1,2,3],\n",
    "               [2,3,3],\n",
    "               [5,4,3]], [2,2]))\n",
    "#True\n",
    "print(is_sink([[1,2,3],\n",
    "               [2,3,3],\n",
    "               [5,4,3]], [3,0]))\n",
    "#False\n",
    "print(is_sink([[1,2,3],\n",
    "               [2,1,3],\n",
    "               [5,4,3]], [1,1]))\n",
    "#True"
   ]
  },
  {
   "cell_type": "markdown",
   "metadata": {},
   "source": [
    "#### Question 4\n",
    "`find_local_sink(List[List[int]], List[int]) -> List[int]`\n",
    "The first parameter is an elevation map, `m`, the second parameter is a cell, `c`, which exists in `m`.\n",
    "Returns the local sink of `c`. A local sink of `c` is the cell which water would flow to if it started\n",
    "at `c`. Assume if the current location isn’t a sink, water will always flow to the adjacent cell\n",
    "with the lowest elevation. You may also assume for the purposes of us testing this function,\n",
    "that all values of m are unique (no two locations have equal elevations). See the docstring for\n",
    "some examples."
   ]
  },
  {
   "cell_type": "code",
   "execution_count": 258,
   "metadata": {},
   "outputs": [
    {
     "name": "stdout",
     "output_type": "stream",
     "text": [
      "[3, 3]\n",
      "[2, 3]\n",
      "[1, 1]\n",
      "[2, 2]\n",
      "[3, 3]\n",
      "[3, 3]\n",
      "[0, 3]\n"
     ]
    }
   ],
   "source": [
    "#DONE!!\n",
    "#need to upload\n",
    "def find_local_sink(m, c):\n",
    "    row = c[0]\n",
    "    col = c[1]\n",
    "    adjacent_cells = [[1,0], [0,1], [-1,0], [0,-1], [1,-1], [-1,1], [1,1], [-1,-1]]\n",
    "\n",
    "    while True:\n",
    "        current = m[row][col]\n",
    "        lowest_elev = current\n",
    "        lowest_adj = None\n",
    "\n",
    "        for row_adjacent, col_adjacent in adjacent_cells:\n",
    "            new_row = row + row_adjacent\n",
    "            new_col = col + col_adjacent\n",
    "\n",
    "            if ((new_row < len(m)) and (new_row >= 0) and (new_col < len(m[0])) and (new_col >= 0)):\n",
    "                elev = m[new_row][new_col]\n",
    "\n",
    "                if elev < lowest_elev:\n",
    "                    lowest_elev = elev\n",
    "                    lowest_adj = [new_row, new_col]\n",
    "\n",
    "        if lowest_adj == None:\n",
    "            return [row, col]\n",
    "        \n",
    "        row = lowest_adj[0]\n",
    "        col = lowest_adj[1]\n",
    "\n",
    "print(find_local_sink([[ 5,70,71,80],\n",
    "                       [50, 4,30,90],\n",
    "                       [60, 3,35,95],\n",
    "                       [10,72, 2, 1]], [0,0]))\n",
    "#[3,3]\n",
    "print(find_local_sink([[ 5,70,71,80],\n",
    "                       [50, 4, 5,90],\n",
    "                       [60, 3,35, 2],\n",
    "                       [ 1,72, 6, 3]], [0,3]))\n",
    "#[2,3]\n",
    "print(find_local_sink([[9,2,3],\n",
    "                       [6,1,7],\n",
    "                       [5,4,8]], [1,1]))\n",
    "#[1,1]\n",
    "print(find_local_sink([[9,2,3],\n",
    "                       [6,1,7],\n",
    "                       [5,4,0]], [1,1]))\n",
    "#[2,2]\n",
    "print(find_local_sink([[ 5,70,71,80],\n",
    "                       [50, 4,30,90],\n",
    "                       [60, 3,35,95],\n",
    "                       [10,72, 2, 1]], [3,3]))\n",
    "#[3,3]\n",
    "print(find_local_sink([[ 5,70,71,80],\n",
    "                       [50, 4,30,90],\n",
    "                       [60, 3,35,95],\n",
    "                       [10,72, 2, 1]], [3,0]))\n",
    "#[3,3]\n",
    "print(find_local_sink([[ 5,70,71,20],\n",
    "                       [50, 4,30,90],\n",
    "                       [60, 3,35,95],\n",
    "                       [10,72, 2, 1]], [0,3]))\n",
    "#[0,3]\n",
    "#3,3\n",
    "#2,3\n",
    "#1,1\n",
    "#2,2\n",
    "#3,3\n",
    "#3,3\n",
    "#0,3"
   ]
  },
  {
   "cell_type": "code",
   "execution_count": 259,
   "metadata": {},
   "outputs": [
    {
     "name": "stdout",
     "output_type": "stream",
     "text": [
      "True\n",
      "False\n"
     ]
    }
   ],
   "source": [
    "# DONE!\n",
    "def can_hike_to(m,s,d,supplies):\n",
    "    if s == d:\n",
    "        return True\n",
    "    \n",
    "    current_location = s\n",
    "\n",
    "    while current_location != d: \n",
    "        if current_location[0] == d[0]:\n",
    "            y = current_location[0]\n",
    "            x = current_location[1]\n",
    "            supplies_used = abs(m[y][x-1]-m[y][x])\n",
    "            if supplies_used <= supplies:\n",
    "                supplies -= supplies_used\n",
    "                current_location[0] = y\n",
    "                current_location[1] = x-1\n",
    "            else:\n",
    "                return False\n",
    "            \n",
    "        elif current_location[1] == d[1]:\n",
    "            y = current_location[0]\n",
    "            x = current_location[1]\n",
    "            supplies_used = abs(m[y-1][x]-m[y][x])\n",
    "            if supplies_used <= supplies:\n",
    "                supplies -= supplies_used\n",
    "                current_location[0] = y-1\n",
    "                current_location[1] = x\n",
    "            else:\n",
    "                return False\n",
    "            \n",
    "        else:\n",
    "            y = current_location[0]\n",
    "            x = current_location[1]\n",
    "            n_supplies_used = abs(m[y-1][x]-m[y][x])\n",
    "            w_supplies_used = abs(m[y][x-1]-m[y][x])\n",
    "\n",
    "            if n_supplies_used < w_supplies_used:\n",
    "                if n_supplies_used <= supplies:\n",
    "                    supplies -= n_supplies_used\n",
    "                    current_location[0] = y-1\n",
    "                    current_location[1] = x\n",
    "                else:\n",
    "                    return False\n",
    "            \n",
    "            else:\n",
    "                if w_supplies_used <= supplies:\n",
    "                    supplies -= w_supplies_used\n",
    "                    current_location[0] = y\n",
    "                    current_location[1] = x-1\n",
    "                else:\n",
    "                    return False\n",
    "    \n",
    "    return True\n",
    "\n",
    "print(can_hike_to([[5, 2, 6],\n",
    "                   [4, 7, 2],\n",
    "                   [3, 2, 1]], [2, 2], [0,0], 4))\n",
    "#True\n",
    "\n",
    "print(can_hike_to([[5, 2, 6],\n",
    "                   [4, 7, 2],\n",
    "                   [3, 2, 1]], [1, 2], [0,1], 5))\n",
    "#False\n"
   ]
  },
  {
   "cell_type": "code",
   "execution_count": null,
   "metadata": {},
   "outputs": [],
   "source": []
  }
 ],
 "metadata": {
  "kernelspec": {
   "display_name": "Python 3",
   "language": "python",
   "name": "python3"
  },
  "language_info": {
   "codemirror_mode": {
    "name": "ipython",
    "version": 3
   },
   "file_extension": ".py",
   "mimetype": "text/x-python",
   "name": "python",
   "nbconvert_exporter": "python",
   "pygments_lexer": "ipython3",
   "version": "3.11.3"
  },
  "vscode": {
   "interpreter": {
    "hash": "aee8b7b246df8f9039afb4144a1f6fd8d2ca17a180786b69acc140d282b71a49"
   }
  }
 },
 "nbformat": 4,
 "nbformat_minor": 4
}
