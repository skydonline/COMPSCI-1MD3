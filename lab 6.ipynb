{
 "cells": [
  {
   "cell_type": "markdown",
   "metadata": {},
   "source": [
    "# Exercise 6\n"
   ]
  },
  {
   "cell_type": "markdown",
   "metadata": {},
   "source": [
    "#### Q1\n",
    "Consider the list:\n",
    "`L = [[1, 5.6, [5]], [8, True, \"False\"], [[False], [6, \"Six\"], 88], \"qwerty\"]`\n",
    "Write expressions using only slicing and indexing that evaluating to the\n",
    "following. As an example, the answer to part a) would be: `L[1][2][1:3]` \\\n",
    "a) \"al\" \\\n",
    "b) 5 \\\n",
    "c) `[True, \"False\"]` \\\n",
    "d) 88 \\\n",
    "e) `[[False], [6, \"Six\"]]` \\\n",
    "f) \"rty\" \\\n",
    "g) 6 "
   ]
  },
  {
   "cell_type": "code",
   "execution_count": 5,
   "metadata": {
    "tags": []
   },
   "outputs": [
    {
     "name": "stdout",
     "output_type": "stream",
     "text": [
      "al\n",
      "5\n",
      "[True, 'False']\n",
      "88\n",
      "[[False], [6, 'Six']]\n",
      "rty\n",
      "6\n"
     ]
    }
   ],
   "source": [
    "L = [[1, 5.6, [5]], [8, True, \"False\"], [[False], [6, \"Six\"], 88], \"qwerty\"]\n",
    "#a)\n",
    "print(L[1][2][1:3])\n",
    "\n",
    "#b)\n",
    "print(L[0][2][0])\n",
    "\n",
    "#c)\n",
    "print(L[1][1:])\n",
    "\n",
    "#d)\n",
    "print(L[2][2])\n",
    "\n",
    "#e)\n",
    "print(L[2][:2])\n",
    "\n",
    "#f)\n",
    "print(L[-1][3:])\n",
    "\n",
    "#g)\n",
    "print(L[2][1][0])"
   ]
  },
  {
   "cell_type": "markdown",
   "metadata": {},
   "source": [
    "#### Q2\n",
    "Implement the functions below (you may or may not need to use nested\n",
    "loops).\n",
    "##### a) \n",
    "Hint: Consider the string methods split and strip.\n",
    "```\n",
    "from typing import List\n",
    "def list_paragraph(para: str)-> List[List[str]]:\n",
    "    \"\"\"\n",
    "    Takes in a paragraph of text, para. Each sentence in para ends with a \".\". \n",
    "    Returns a nested list of strings, where each\n",
    "    element of the list is a list of strings which represents a single\n",
    "    sentence. And each element in a list representing a sentence is a single word.\n",
    "    \n",
    "    Examples:\n",
    "    \n",
    "    >>> s = 'This is an example. This is the second sentence; there may\n",
    "    be some punctuation. This is the third.'\n",
    "    >>> list_paragraph(s)\n",
    "    [['This', 'is', 'an', 'example'], ['This', 'is', 'the', 'second',\n",
    "    'sentence;', 'there', 'may', 'be', 'some', 'punctuation'],\n",
    "    ['This', 'is', 'the', 'third']]\n",
    "    >>> list_paragraph(\"\")\n",
    "    []\n",
    "    \"\"\"\n",
    " ```\n",
    "\n",
    "\n",
    "\n",
    " ##### b)\n",
    "```\n",
    "from typing import List\n",
    "def create_paragraph(para_list: List[List[str]])-> str:\n",
    "    \"\"\"\n",
    "    Takes in a list of lists of strings which represent a paragraph of\n",
    "    text as described in part a). The function recreates the paragraph\n",
    "    and returns it. In general, for any paragraph of text s, s should\n",
    "    equal create_paragraph(list_paragraph(s)).\n",
    "    Examples\n",
    "    >>> L = [['This', 'is', 'an', 'example'], ['This', 'is', 'the',\n",
    "    'second', 'sentence;', 'there', 'may', 'be', 'some', 'punctuation'],\n",
    "    ['This', 'is', 'the', 'third']]\n",
    "    >>> create_paragraph(L)\n",
    "    'This is an example. This is the second sentence; there may be some\n",
    "    punctuation. This is the third.'\n",
    "    \"\"\"\n",
    "```\n",
    "\n",
    "##### c)\n",
    "What if we had a very large piece of text with many paragraphs.\n",
    "How might we represent that in list format, where if I had such a list L and wanted the  \n",
    "3rd paragraph I'd be able to return it with `L[2]`? \n"
   ]
  },
  {
   "cell_type": "code",
   "execution_count": 12,
   "metadata": {},
   "outputs": [
    {
     "name": "stdout",
     "output_type": "stream",
     "text": [
      "[['This', 'is', 'an', 'example'], ['This', 'is', 'the', 'second', 'sentence;', 'there', 'maybe', 'some', 'punctuation'], ['This', 'is', 'the', 'third']]\n"
     ]
    }
   ],
   "source": [
    "#a) (str)-> List[List[str]]\n",
    "from typing import List\n",
    "def list_paragraph(para):\n",
    "    if para == '':\n",
    "        return []\n",
    "    \n",
    "    x = para.split(\". \")\n",
    "    for i in range(len(x)):\n",
    "        x[i] = [x[i].strip(\".\")]\n",
    "\n",
    "    split = [[word for word in sentence[0].split()] for sentence in x]\n",
    "\n",
    "    return split\n",
    "\n",
    "print(list_paragraph('This is an example. This is the second sentence; there maybe some punctuation. This is the third.'))"
   ]
  },
  {
   "cell_type": "code",
   "execution_count": 3,
   "metadata": {},
   "outputs": [
    {
     "name": "stdout",
     "output_type": "stream",
     "text": [
      "This is an example. This is the second sentence; there may be some punctuation. This is the third. \n"
     ]
    }
   ],
   "source": [
    "\n",
    "from typing import List\n",
    "def create_paragraph(para_list):\n",
    "    paragraph = ''\n",
    "    for i in range(len(para_list)):\n",
    "        paragraph += \" \".join(para_list[i]) + '. '\n",
    "    \n",
    "    return paragraph\n",
    "\n",
    "print(create_paragraph([['This', 'is', 'an', 'example'], ['This', 'is', 'the',\n",
    "    'second', 'sentence;', 'there', 'may', 'be', 'some', 'punctuation'],\n",
    "    ['This', 'is', 'the', 'third']]))"
   ]
  },
  {
   "cell_type": "code",
   "execution_count": null,
   "metadata": {},
   "outputs": [],
   "source": []
  },
  {
   "cell_type": "markdown",
   "metadata": {},
   "source": [
    "#### Q3\n",
    "Consider the function below:\n",
    "```\n",
    "from typing import List\n",
    "def annoying(L: List[List[int]]):\n",
    "    \"\"\"\n",
    "    ???\n",
    "    \"\"\"\n",
    "    total = 0\n",
    "    for i in range(len(L[0])):\n",
    "        for num in L[i]:\n",
    "            total += L[L[i][num]][L[num][i]]\n",
    "    return total\n",
    "```\n",
    "\n",
    "What is the output of:\n",
    "\n",
    "```\n",
    ">>> L = [[0,1,2],[2,0,1],[1,2,0]]\n",
    ">>> annoying(L)\n",
    "???\n",
    "```\n"
   ]
  },
  {
   "cell_type": "code",
   "execution_count": 13,
   "metadata": {},
   "outputs": [],
   "source": [
    "#output: int is not subscriptable, index errors"
   ]
  },
  {
   "cell_type": "markdown",
   "metadata": {},
   "source": [
    "#### Q4\n",
    "The geometric mean of a series x of n-numbers is defined as the n-th root\n",
    "of the product of all numbers of x (see https://en.wikipedia.org/wiki/Geometric_mean for additional guidance):\n",
    "∏x−−−√n\n",
    "\n",
    "Write a Python function geometric_mean(L) that takes in a non-empty list L\n",
    "and returns its geometric mean, a floating-point number:\n",
    "```\n",
    ">>> geometric_mean([2, 8])\n",
    "4.0\n",
    ">>> geometric_mean([4, 1, 1/32])\n",
    "0.5\n",
    ">>> geometric_mean([2])\n",
    "2.0\n",
    "```"
   ]
  },
  {
   "cell_type": "code",
   "execution_count": 12,
   "metadata": {},
   "outputs": [
    {
     "name": "stdout",
     "output_type": "stream",
     "text": [
      "4.0\n",
      "0.5\n",
      "2.0\n"
     ]
    }
   ],
   "source": [
    "from math import pow\n",
    "def geometric_mean(L):\n",
    "    i = 0\n",
    "    total = 1\n",
    "    result = 0\n",
    "    while i < len(L):\n",
    "        total = total * L[i]\n",
    "        i += 1\n",
    "    \n",
    "    result = (total)**(1/(i))\n",
    "    return result\n",
    "\n",
    "print(geometric_mean([2,8]))\n",
    "print(geometric_mean([4,1,1/32]))\n",
    "print(geometric_mean([2]))"
   ]
  },
  {
   "cell_type": "markdown",
   "metadata": {},
   "source": [
    "#### Q5\n",
    "The median of a collection of number is the “middle” number: if the\n",
    "collection has an odd number of elements, it is that number such that half of\n",
    "the collection is less than or equal to the median and half is greater than or\n",
    "equal to the median. If the collection has an even number of elements, there\n",
    "are two middle numbers and the (arithmetic) mean of those is taken.\n",
    "Write a Python function `median(L)` that takes a non-empty list L of integers\n",
    "and returns its median (as a floating-point number):\n",
    "```\n",
    ">>> median([1, 2, 1, 1, 3])\n",
    "1.0\n",
    ">>> median([1, 2, 1, 3])\n",
    "1.5\n",
    ">>> median([1, 2, 1, 1, 1, 3])\n",
    "1.0\n",
    ">>> median([2])\n",
    "2.0\n",
    "```\n"
   ]
  },
  {
   "cell_type": "code",
   "execution_count": 21,
   "metadata": {},
   "outputs": [
    {
     "name": "stdout",
     "output_type": "stream",
     "text": [
      "1\n",
      "1.5\n",
      "1.0\n",
      "2\n"
     ]
    }
   ],
   "source": [
    "def median(L):\n",
    "    L.sort()\n",
    "    middle = len(L) // 2\n",
    "    if len(L) % 2 == 0:\n",
    "        return (L[middle-1] + L[middle]) / 2\n",
    "    else:\n",
    "        return L[middle]\n",
    "\n",
    "print(median([1,2,1,1,3]))\n",
    "print(median([1,2,1,3]))\n",
    "print(median([1,2,1,1,1,3]))\n",
    "print(median([2]))"
   ]
  },
  {
   "cell_type": "markdown",
   "metadata": {},
   "source": [
    "#### Q6\n",
    "camelCase variable naming is when words after the first word start with an\n",
    "uppercase letter and all other letters are lowercase (Ex.\n",
    "someVariableName). pothole_case, is where all letters are lowercase with\n",
    "underscores between words and numbers.\n",
    "Write the following python function:\n",
    "```\n",
    "def pothole_to_camel(pothole: List[str])-> List[str]:\n",
    "    \"\"\"\n",
    "    Takes a string which is represented as a list of strings, where each\n",
    "    string is an\n",
    "    individual character. The list represents a variable name written in\n",
    "    pothole_case. The\n",
    "    function returns a list of characters representing the same variable\n",
    "    name, except\n",
    "    written in camelCase.\n",
    "    pothole is guaranteed not to end with an underscore.\n",
    "    Examples\n",
    "    >>> pothole = ['s', 'o', 'm', 'e', '_', 'v', 'a', 'r', 'i', 'a', 'b',\n",
    "    'l', 'e', '_', 'n', 'a', 'm', 'e']\n",
    "    >>> pothole_to_camel(pothole)\n",
    "    ['s', 'o', 'm', 'e', 'V', 'a', 'r', 'i', 'a', 'b', 'l', 'e', 'N', 'a',\n",
    "    'm', 'e']\n",
    "    \"\"\"\n",
    "```"
   ]
  },
  {
   "cell_type": "code",
   "execution_count": 42,
   "metadata": {},
   "outputs": [
    {
     "name": "stdout",
     "output_type": "stream",
     "text": [
      "['s', 'o', 'm', 'e', 'V', 'a', 'r', 'i', 'a', 'b', 'l', 'e', 'N', 'a', 'm', 'e']\n"
     ]
    }
   ],
   "source": [
    "def pothole_to_camel(pothole):\n",
    "    i = 1\n",
    "    new_list = [pothole[0]]\n",
    "    while i < len(pothole):\n",
    "        if pothole[i] == '_':\n",
    "            new_list.append(pothole[i+1].upper())\n",
    "            i += 1\n",
    "        else:\n",
    "            new_list.append(pothole[i])\n",
    "        i += 1\n",
    "    \n",
    "    return new_list\n",
    "\n",
    "print(pothole_to_camel(['s', 'o', 'm', 'e', '_', 'v', 'a', 'r', 'i', 'a', 'b', 'l', 'e', '_', 'n', 'a', 'm', 'e']))\n"
   ]
  },
  {
   "cell_type": "markdown",
   "metadata": {},
   "source": [
    "#### Q7\n",
    "The Cartesian Product is used to generate pairs from two sets:\n",
    "A×B={(a,b):a∈A and b∈B}.\n",
    "For example,\n",
    "R2\n",
    "is the real-plane and\n",
    "{0,1,2}×{a,b}={(0,a),(0,b),(1,a),(1,b),(2,a),(2,b)}\n",
    "Implement:\n",
    "````\n",
    "def cart_prod(A:list, B:list) -> List[List]:\n",
    "    \"\"\"\n",
    "    >>> cart_prod( [], [1,2,3] )\n",
    "    []\n",
    "    >>> cart_prod( [1,2], [5,6,7])\n",
    "    [[1, 5], [1, 6], [1, 7], [2, 5], [2, 6], [2, 7]]\n",
    "    \"\"\"\n",
    "```"
   ]
  },
  {
   "cell_type": "code",
   "execution_count": 44,
   "metadata": {},
   "outputs": [
    {
     "name": "stdout",
     "output_type": "stream",
     "text": [
      "[]\n",
      "[[1, 5], [1, 6], [1, 7], [2, 5], [2, 6], [2, 7]]\n"
     ]
    }
   ],
   "source": [
    "def cart_prod(A, B):\n",
    "    new_list = []\n",
    "    for x in A:\n",
    "        for y in B:\n",
    "            new_list.append([x,y])\n",
    "\n",
    "    return new_list\n",
    "\n",
    "print(cart_prod([], [1,2,3]))\n",
    "print(cart_prod([1,2],[5,6,7]))"
   ]
  },
  {
   "cell_type": "markdown",
   "metadata": {},
   "source": [
    "#### Q8\n",
    " Suppose an integer is represented by a list of its digits as in 234 = [2, 3, 4].\n",
    "Write a function that takes two such integers and returns their sum using the\n",
    "list representation.\n",
    "Implement:\n",
    "```\n",
    "from typing import List\n",
    "def list_add( xs:List[int], ys:List[int] ) -> List[int]:\n",
    "    \"\"\"\n",
    "    >>> list_add([1, 2], [3, 4])\n",
    "    [4, 6]\n",
    "    >>> list_add([9, 8, 9], [4, 5])\n",
    "    [1, 0, 3, 4]\n",
    "    \"\"\"\n",
    "``` "
   ]
  },
  {
   "cell_type": "code",
   "execution_count": 2,
   "metadata": {},
   "outputs": [
    {
     "name": "stdout",
     "output_type": "stream",
     "text": [
      "['4', '6']\n",
      "['1', '0', '3', '4']\n"
     ]
    }
   ],
   "source": [
    "def list_add(xs, ys):\n",
    "    xs_total = ''\n",
    "    ys_total = ''\n",
    "    new_total = ''\n",
    "\n",
    "    for x in range(len(xs)):\n",
    "        xs_total = xs_total + str(xs[x])\n",
    "    \n",
    "    for y in range(len(ys)):\n",
    "        ys_total = ys_total + str(ys[y])\n",
    "    \n",
    "    new_total = int(xs_total) + int(ys_total)\n",
    "    \n",
    "    return list(str(new_total))\n",
    "\n",
    "print(list_add([1,2],[3,4]))\n",
    "print(list_add([9,8,9],[4,5]))"
   ]
  },
  {
   "cell_type": "markdown",
   "metadata": {},
   "source": [
    "#### Q9\n",
    "We can represented a matrix as a list of rows. For instance,\n",
    "`AA=[[1, 2], [3,4], [5,6]] `\n",
    "represents the matrix A:\n",
    "```\n",
    "| 1  2 |\n",
    "| 3  4 |\n",
    "| 5  6 |\n",
    "```\n",
    "The transpose of a matrix is the matrix obtained by swapping the rows and\n",
    "columns of a matrix\n",
    "transpose(A)=\n",
    "```\n",
    "| 1 3 5 |\n",
    "| 2 4 6 |\n",
    "```\n",
    "Write a function with the following signature which accepts a matrix as a list\n",
    "of lists and returns the matrixes transpose using the same representation.\n",
    "from typing import List\n",
    "```\n",
    "def matrix_transpose( AA:List[List[int]] ) -> List[List[int]]:\n",
    " \"\"\"\n",
    " matrix_transpose( [] )\n",
    " []\n",
    " matrix_transpose( [[1]] )\n",
    " [[1]]\n",
    " matrix_transpose( [[1, 2], [3, 4], [5, 6]] )\n",
    " [[1, 3, 5], [2, 4, 6]]\n",
    " \"\"\"\n",
    "```"
   ]
  },
  {
   "cell_type": "code",
   "execution_count": 4,
   "metadata": {},
   "outputs": [
    {
     "name": "stdout",
     "output_type": "stream",
     "text": [
      "[]\n",
      "[[1]]\n",
      "[[1, 3, 5], [2, 4, 6]]\n"
     ]
    }
   ],
   "source": [
    "from typing import List\n",
    "\n",
    "def matrix_transpose(AA: List[List[int]]) -> List[List[int]]:\n",
    "    if not AA:\n",
    "        return []\n",
    "    rows = len(AA)\n",
    "    cols = len(AA[0])\n",
    "\n",
    "    transpose = [[0 for _ in range(rows)] for _ in range(cols)]\n",
    "\n",
    "    for i in range(rows):\n",
    "        for j in range(cols):\n",
    "            transpose[j][i] = AA[i][j]\n",
    "\n",
    "    return transpose\n",
    "\n",
    "print(matrix_transpose([]))\n",
    "print(matrix_transpose([[1]]))\n",
    "print(matrix_transpose([[1, 2], [3, 4], [5, 6]]))\n",
    "\n"
   ]
  },
  {
   "cell_type": "code",
   "execution_count": null,
   "metadata": {},
   "outputs": [],
   "source": []
  }
 ],
 "metadata": {
  "kernelspec": {
   "display_name": "Python 3",
   "language": "python",
   "name": "python3"
  },
  "language_info": {
   "codemirror_mode": {
    "name": "ipython",
    "version": 3
   },
   "file_extension": ".py",
   "mimetype": "text/x-python",
   "name": "python",
   "nbconvert_exporter": "python",
   "pygments_lexer": "ipython3",
   "version": "3.11.3"
  },
  "vscode": {
   "interpreter": {
    "hash": "aee8b7b246df8f9039afb4144a1f6fd8d2ca17a180786b69acc140d282b71a49"
   }
  }
 },
 "nbformat": 4,
 "nbformat_minor": 4
}
